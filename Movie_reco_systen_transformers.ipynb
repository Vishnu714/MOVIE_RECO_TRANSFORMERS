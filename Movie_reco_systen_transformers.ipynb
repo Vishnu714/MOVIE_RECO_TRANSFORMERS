{
  "nbformat": 4,
  "nbformat_minor": 0,
  "metadata": {
    "colab": {
      "provenance": [],
      "gpuType": "T4"
    },
    "kernelspec": {
      "name": "python3",
      "display_name": "Python 3"
    },
    "language_info": {
      "name": "python"
    },
    "accelerator": "GPU",
    "widgets": {
      "application/vnd.jupyter.widget-state+json": {
        "6d6ae7749d7c4b3b92ca3f1bcee2585b": {
          "model_module": "@jupyter-widgets/controls",
          "model_name": "HBoxModel",
          "model_module_version": "1.5.0",
          "state": {
            "_dom_classes": [],
            "_model_module": "@jupyter-widgets/controls",
            "_model_module_version": "1.5.0",
            "_model_name": "HBoxModel",
            "_view_count": null,
            "_view_module": "@jupyter-widgets/controls",
            "_view_module_version": "1.5.0",
            "_view_name": "HBoxView",
            "box_style": "",
            "children": [
              "IPY_MODEL_2a5bd2257a194b919ef484ec817970a1",
              "IPY_MODEL_afb56b7e62454542a95a4fa4ff0e5057",
              "IPY_MODEL_1dec8859f65f4a5c8d10ba1be090802c"
            ],
            "layout": "IPY_MODEL_030529ed0c6c46f587aa08f2c4f76366"
          }
        },
        "2a5bd2257a194b919ef484ec817970a1": {
          "model_module": "@jupyter-widgets/controls",
          "model_name": "HTMLModel",
          "model_module_version": "1.5.0",
          "state": {
            "_dom_classes": [],
            "_model_module": "@jupyter-widgets/controls",
            "_model_module_version": "1.5.0",
            "_model_name": "HTMLModel",
            "_view_count": null,
            "_view_module": "@jupyter-widgets/controls",
            "_view_module_version": "1.5.0",
            "_view_name": "HTMLView",
            "description": "",
            "description_tooltip": null,
            "layout": "IPY_MODEL_30d015952bbd4e6aa91cf2349bdc9d37",
            "placeholder": "​",
            "style": "IPY_MODEL_e7177ae8f61a49e8b8d08d6fac581c34",
            "value": "tokenizer_config.json: 100%"
          }
        },
        "afb56b7e62454542a95a4fa4ff0e5057": {
          "model_module": "@jupyter-widgets/controls",
          "model_name": "FloatProgressModel",
          "model_module_version": "1.5.0",
          "state": {
            "_dom_classes": [],
            "_model_module": "@jupyter-widgets/controls",
            "_model_module_version": "1.5.0",
            "_model_name": "FloatProgressModel",
            "_view_count": null,
            "_view_module": "@jupyter-widgets/controls",
            "_view_module_version": "1.5.0",
            "_view_name": "ProgressView",
            "bar_style": "success",
            "description": "",
            "description_tooltip": null,
            "layout": "IPY_MODEL_b17a7042209b4d029e001a74fd83f22a",
            "max": 48,
            "min": 0,
            "orientation": "horizontal",
            "style": "IPY_MODEL_eb040b0cc32347a2b6a91137f297ce43",
            "value": 48
          }
        },
        "1dec8859f65f4a5c8d10ba1be090802c": {
          "model_module": "@jupyter-widgets/controls",
          "model_name": "HTMLModel",
          "model_module_version": "1.5.0",
          "state": {
            "_dom_classes": [],
            "_model_module": "@jupyter-widgets/controls",
            "_model_module_version": "1.5.0",
            "_model_name": "HTMLModel",
            "_view_count": null,
            "_view_module": "@jupyter-widgets/controls",
            "_view_module_version": "1.5.0",
            "_view_name": "HTMLView",
            "description": "",
            "description_tooltip": null,
            "layout": "IPY_MODEL_af8a5ab34c734f91b015dfde0dcb4e42",
            "placeholder": "​",
            "style": "IPY_MODEL_41820cb590d8402887d13d6887c911ae",
            "value": " 48.0/48.0 [00:00&lt;00:00, 4.81kB/s]"
          }
        },
        "030529ed0c6c46f587aa08f2c4f76366": {
          "model_module": "@jupyter-widgets/base",
          "model_name": "LayoutModel",
          "model_module_version": "1.2.0",
          "state": {
            "_model_module": "@jupyter-widgets/base",
            "_model_module_version": "1.2.0",
            "_model_name": "LayoutModel",
            "_view_count": null,
            "_view_module": "@jupyter-widgets/base",
            "_view_module_version": "1.2.0",
            "_view_name": "LayoutView",
            "align_content": null,
            "align_items": null,
            "align_self": null,
            "border": null,
            "bottom": null,
            "display": null,
            "flex": null,
            "flex_flow": null,
            "grid_area": null,
            "grid_auto_columns": null,
            "grid_auto_flow": null,
            "grid_auto_rows": null,
            "grid_column": null,
            "grid_gap": null,
            "grid_row": null,
            "grid_template_areas": null,
            "grid_template_columns": null,
            "grid_template_rows": null,
            "height": null,
            "justify_content": null,
            "justify_items": null,
            "left": null,
            "margin": null,
            "max_height": null,
            "max_width": null,
            "min_height": null,
            "min_width": null,
            "object_fit": null,
            "object_position": null,
            "order": null,
            "overflow": null,
            "overflow_x": null,
            "overflow_y": null,
            "padding": null,
            "right": null,
            "top": null,
            "visibility": null,
            "width": null
          }
        },
        "30d015952bbd4e6aa91cf2349bdc9d37": {
          "model_module": "@jupyter-widgets/base",
          "model_name": "LayoutModel",
          "model_module_version": "1.2.0",
          "state": {
            "_model_module": "@jupyter-widgets/base",
            "_model_module_version": "1.2.0",
            "_model_name": "LayoutModel",
            "_view_count": null,
            "_view_module": "@jupyter-widgets/base",
            "_view_module_version": "1.2.0",
            "_view_name": "LayoutView",
            "align_content": null,
            "align_items": null,
            "align_self": null,
            "border": null,
            "bottom": null,
            "display": null,
            "flex": null,
            "flex_flow": null,
            "grid_area": null,
            "grid_auto_columns": null,
            "grid_auto_flow": null,
            "grid_auto_rows": null,
            "grid_column": null,
            "grid_gap": null,
            "grid_row": null,
            "grid_template_areas": null,
            "grid_template_columns": null,
            "grid_template_rows": null,
            "height": null,
            "justify_content": null,
            "justify_items": null,
            "left": null,
            "margin": null,
            "max_height": null,
            "max_width": null,
            "min_height": null,
            "min_width": null,
            "object_fit": null,
            "object_position": null,
            "order": null,
            "overflow": null,
            "overflow_x": null,
            "overflow_y": null,
            "padding": null,
            "right": null,
            "top": null,
            "visibility": null,
            "width": null
          }
        },
        "e7177ae8f61a49e8b8d08d6fac581c34": {
          "model_module": "@jupyter-widgets/controls",
          "model_name": "DescriptionStyleModel",
          "model_module_version": "1.5.0",
          "state": {
            "_model_module": "@jupyter-widgets/controls",
            "_model_module_version": "1.5.0",
            "_model_name": "DescriptionStyleModel",
            "_view_count": null,
            "_view_module": "@jupyter-widgets/base",
            "_view_module_version": "1.2.0",
            "_view_name": "StyleView",
            "description_width": ""
          }
        },
        "b17a7042209b4d029e001a74fd83f22a": {
          "model_module": "@jupyter-widgets/base",
          "model_name": "LayoutModel",
          "model_module_version": "1.2.0",
          "state": {
            "_model_module": "@jupyter-widgets/base",
            "_model_module_version": "1.2.0",
            "_model_name": "LayoutModel",
            "_view_count": null,
            "_view_module": "@jupyter-widgets/base",
            "_view_module_version": "1.2.0",
            "_view_name": "LayoutView",
            "align_content": null,
            "align_items": null,
            "align_self": null,
            "border": null,
            "bottom": null,
            "display": null,
            "flex": null,
            "flex_flow": null,
            "grid_area": null,
            "grid_auto_columns": null,
            "grid_auto_flow": null,
            "grid_auto_rows": null,
            "grid_column": null,
            "grid_gap": null,
            "grid_row": null,
            "grid_template_areas": null,
            "grid_template_columns": null,
            "grid_template_rows": null,
            "height": null,
            "justify_content": null,
            "justify_items": null,
            "left": null,
            "margin": null,
            "max_height": null,
            "max_width": null,
            "min_height": null,
            "min_width": null,
            "object_fit": null,
            "object_position": null,
            "order": null,
            "overflow": null,
            "overflow_x": null,
            "overflow_y": null,
            "padding": null,
            "right": null,
            "top": null,
            "visibility": null,
            "width": null
          }
        },
        "eb040b0cc32347a2b6a91137f297ce43": {
          "model_module": "@jupyter-widgets/controls",
          "model_name": "ProgressStyleModel",
          "model_module_version": "1.5.0",
          "state": {
            "_model_module": "@jupyter-widgets/controls",
            "_model_module_version": "1.5.0",
            "_model_name": "ProgressStyleModel",
            "_view_count": null,
            "_view_module": "@jupyter-widgets/base",
            "_view_module_version": "1.2.0",
            "_view_name": "StyleView",
            "bar_color": null,
            "description_width": ""
          }
        },
        "af8a5ab34c734f91b015dfde0dcb4e42": {
          "model_module": "@jupyter-widgets/base",
          "model_name": "LayoutModel",
          "model_module_version": "1.2.0",
          "state": {
            "_model_module": "@jupyter-widgets/base",
            "_model_module_version": "1.2.0",
            "_model_name": "LayoutModel",
            "_view_count": null,
            "_view_module": "@jupyter-widgets/base",
            "_view_module_version": "1.2.0",
            "_view_name": "LayoutView",
            "align_content": null,
            "align_items": null,
            "align_self": null,
            "border": null,
            "bottom": null,
            "display": null,
            "flex": null,
            "flex_flow": null,
            "grid_area": null,
            "grid_auto_columns": null,
            "grid_auto_flow": null,
            "grid_auto_rows": null,
            "grid_column": null,
            "grid_gap": null,
            "grid_row": null,
            "grid_template_areas": null,
            "grid_template_columns": null,
            "grid_template_rows": null,
            "height": null,
            "justify_content": null,
            "justify_items": null,
            "left": null,
            "margin": null,
            "max_height": null,
            "max_width": null,
            "min_height": null,
            "min_width": null,
            "object_fit": null,
            "object_position": null,
            "order": null,
            "overflow": null,
            "overflow_x": null,
            "overflow_y": null,
            "padding": null,
            "right": null,
            "top": null,
            "visibility": null,
            "width": null
          }
        },
        "41820cb590d8402887d13d6887c911ae": {
          "model_module": "@jupyter-widgets/controls",
          "model_name": "DescriptionStyleModel",
          "model_module_version": "1.5.0",
          "state": {
            "_model_module": "@jupyter-widgets/controls",
            "_model_module_version": "1.5.0",
            "_model_name": "DescriptionStyleModel",
            "_view_count": null,
            "_view_module": "@jupyter-widgets/base",
            "_view_module_version": "1.2.0",
            "_view_name": "StyleView",
            "description_width": ""
          }
        },
        "addeb83eee3e46299472f225b78c9e3d": {
          "model_module": "@jupyter-widgets/controls",
          "model_name": "HBoxModel",
          "model_module_version": "1.5.0",
          "state": {
            "_dom_classes": [],
            "_model_module": "@jupyter-widgets/controls",
            "_model_module_version": "1.5.0",
            "_model_name": "HBoxModel",
            "_view_count": null,
            "_view_module": "@jupyter-widgets/controls",
            "_view_module_version": "1.5.0",
            "_view_name": "HBoxView",
            "box_style": "",
            "children": [
              "IPY_MODEL_27cab62e865e4795a126ab97ea6daaff",
              "IPY_MODEL_af7f78a275c84c528f70714056639bf4",
              "IPY_MODEL_e21b65df395b484892714624998bda6b"
            ],
            "layout": "IPY_MODEL_842fc927490b482ba81cab5ab989ed79"
          }
        },
        "27cab62e865e4795a126ab97ea6daaff": {
          "model_module": "@jupyter-widgets/controls",
          "model_name": "HTMLModel",
          "model_module_version": "1.5.0",
          "state": {
            "_dom_classes": [],
            "_model_module": "@jupyter-widgets/controls",
            "_model_module_version": "1.5.0",
            "_model_name": "HTMLModel",
            "_view_count": null,
            "_view_module": "@jupyter-widgets/controls",
            "_view_module_version": "1.5.0",
            "_view_name": "HTMLView",
            "description": "",
            "description_tooltip": null,
            "layout": "IPY_MODEL_6ce355702bf7497eaa59a33c20211550",
            "placeholder": "​",
            "style": "IPY_MODEL_6099a3712d384802a65cff0d6a84aa45",
            "value": "vocab.txt: 100%"
          }
        },
        "af7f78a275c84c528f70714056639bf4": {
          "model_module": "@jupyter-widgets/controls",
          "model_name": "FloatProgressModel",
          "model_module_version": "1.5.0",
          "state": {
            "_dom_classes": [],
            "_model_module": "@jupyter-widgets/controls",
            "_model_module_version": "1.5.0",
            "_model_name": "FloatProgressModel",
            "_view_count": null,
            "_view_module": "@jupyter-widgets/controls",
            "_view_module_version": "1.5.0",
            "_view_name": "ProgressView",
            "bar_style": "success",
            "description": "",
            "description_tooltip": null,
            "layout": "IPY_MODEL_5d050e58ea5246cda6b4e61290731519",
            "max": 231508,
            "min": 0,
            "orientation": "horizontal",
            "style": "IPY_MODEL_1e17872b12b64c3a8b0e947b88b026d0",
            "value": 231508
          }
        },
        "e21b65df395b484892714624998bda6b": {
          "model_module": "@jupyter-widgets/controls",
          "model_name": "HTMLModel",
          "model_module_version": "1.5.0",
          "state": {
            "_dom_classes": [],
            "_model_module": "@jupyter-widgets/controls",
            "_model_module_version": "1.5.0",
            "_model_name": "HTMLModel",
            "_view_count": null,
            "_view_module": "@jupyter-widgets/controls",
            "_view_module_version": "1.5.0",
            "_view_name": "HTMLView",
            "description": "",
            "description_tooltip": null,
            "layout": "IPY_MODEL_26acbc37d4a34de080efe70998571af4",
            "placeholder": "​",
            "style": "IPY_MODEL_4c5e1248c2f94efbbced1dda0c552fc2",
            "value": " 232k/232k [00:00&lt;00:00, 13.0MB/s]"
          }
        },
        "842fc927490b482ba81cab5ab989ed79": {
          "model_module": "@jupyter-widgets/base",
          "model_name": "LayoutModel",
          "model_module_version": "1.2.0",
          "state": {
            "_model_module": "@jupyter-widgets/base",
            "_model_module_version": "1.2.0",
            "_model_name": "LayoutModel",
            "_view_count": null,
            "_view_module": "@jupyter-widgets/base",
            "_view_module_version": "1.2.0",
            "_view_name": "LayoutView",
            "align_content": null,
            "align_items": null,
            "align_self": null,
            "border": null,
            "bottom": null,
            "display": null,
            "flex": null,
            "flex_flow": null,
            "grid_area": null,
            "grid_auto_columns": null,
            "grid_auto_flow": null,
            "grid_auto_rows": null,
            "grid_column": null,
            "grid_gap": null,
            "grid_row": null,
            "grid_template_areas": null,
            "grid_template_columns": null,
            "grid_template_rows": null,
            "height": null,
            "justify_content": null,
            "justify_items": null,
            "left": null,
            "margin": null,
            "max_height": null,
            "max_width": null,
            "min_height": null,
            "min_width": null,
            "object_fit": null,
            "object_position": null,
            "order": null,
            "overflow": null,
            "overflow_x": null,
            "overflow_y": null,
            "padding": null,
            "right": null,
            "top": null,
            "visibility": null,
            "width": null
          }
        },
        "6ce355702bf7497eaa59a33c20211550": {
          "model_module": "@jupyter-widgets/base",
          "model_name": "LayoutModel",
          "model_module_version": "1.2.0",
          "state": {
            "_model_module": "@jupyter-widgets/base",
            "_model_module_version": "1.2.0",
            "_model_name": "LayoutModel",
            "_view_count": null,
            "_view_module": "@jupyter-widgets/base",
            "_view_module_version": "1.2.0",
            "_view_name": "LayoutView",
            "align_content": null,
            "align_items": null,
            "align_self": null,
            "border": null,
            "bottom": null,
            "display": null,
            "flex": null,
            "flex_flow": null,
            "grid_area": null,
            "grid_auto_columns": null,
            "grid_auto_flow": null,
            "grid_auto_rows": null,
            "grid_column": null,
            "grid_gap": null,
            "grid_row": null,
            "grid_template_areas": null,
            "grid_template_columns": null,
            "grid_template_rows": null,
            "height": null,
            "justify_content": null,
            "justify_items": null,
            "left": null,
            "margin": null,
            "max_height": null,
            "max_width": null,
            "min_height": null,
            "min_width": null,
            "object_fit": null,
            "object_position": null,
            "order": null,
            "overflow": null,
            "overflow_x": null,
            "overflow_y": null,
            "padding": null,
            "right": null,
            "top": null,
            "visibility": null,
            "width": null
          }
        },
        "6099a3712d384802a65cff0d6a84aa45": {
          "model_module": "@jupyter-widgets/controls",
          "model_name": "DescriptionStyleModel",
          "model_module_version": "1.5.0",
          "state": {
            "_model_module": "@jupyter-widgets/controls",
            "_model_module_version": "1.5.0",
            "_model_name": "DescriptionStyleModel",
            "_view_count": null,
            "_view_module": "@jupyter-widgets/base",
            "_view_module_version": "1.2.0",
            "_view_name": "StyleView",
            "description_width": ""
          }
        },
        "5d050e58ea5246cda6b4e61290731519": {
          "model_module": "@jupyter-widgets/base",
          "model_name": "LayoutModel",
          "model_module_version": "1.2.0",
          "state": {
            "_model_module": "@jupyter-widgets/base",
            "_model_module_version": "1.2.0",
            "_model_name": "LayoutModel",
            "_view_count": null,
            "_view_module": "@jupyter-widgets/base",
            "_view_module_version": "1.2.0",
            "_view_name": "LayoutView",
            "align_content": null,
            "align_items": null,
            "align_self": null,
            "border": null,
            "bottom": null,
            "display": null,
            "flex": null,
            "flex_flow": null,
            "grid_area": null,
            "grid_auto_columns": null,
            "grid_auto_flow": null,
            "grid_auto_rows": null,
            "grid_column": null,
            "grid_gap": null,
            "grid_row": null,
            "grid_template_areas": null,
            "grid_template_columns": null,
            "grid_template_rows": null,
            "height": null,
            "justify_content": null,
            "justify_items": null,
            "left": null,
            "margin": null,
            "max_height": null,
            "max_width": null,
            "min_height": null,
            "min_width": null,
            "object_fit": null,
            "object_position": null,
            "order": null,
            "overflow": null,
            "overflow_x": null,
            "overflow_y": null,
            "padding": null,
            "right": null,
            "top": null,
            "visibility": null,
            "width": null
          }
        },
        "1e17872b12b64c3a8b0e947b88b026d0": {
          "model_module": "@jupyter-widgets/controls",
          "model_name": "ProgressStyleModel",
          "model_module_version": "1.5.0",
          "state": {
            "_model_module": "@jupyter-widgets/controls",
            "_model_module_version": "1.5.0",
            "_model_name": "ProgressStyleModel",
            "_view_count": null,
            "_view_module": "@jupyter-widgets/base",
            "_view_module_version": "1.2.0",
            "_view_name": "StyleView",
            "bar_color": null,
            "description_width": ""
          }
        },
        "26acbc37d4a34de080efe70998571af4": {
          "model_module": "@jupyter-widgets/base",
          "model_name": "LayoutModel",
          "model_module_version": "1.2.0",
          "state": {
            "_model_module": "@jupyter-widgets/base",
            "_model_module_version": "1.2.0",
            "_model_name": "LayoutModel",
            "_view_count": null,
            "_view_module": "@jupyter-widgets/base",
            "_view_module_version": "1.2.0",
            "_view_name": "LayoutView",
            "align_content": null,
            "align_items": null,
            "align_self": null,
            "border": null,
            "bottom": null,
            "display": null,
            "flex": null,
            "flex_flow": null,
            "grid_area": null,
            "grid_auto_columns": null,
            "grid_auto_flow": null,
            "grid_auto_rows": null,
            "grid_column": null,
            "grid_gap": null,
            "grid_row": null,
            "grid_template_areas": null,
            "grid_template_columns": null,
            "grid_template_rows": null,
            "height": null,
            "justify_content": null,
            "justify_items": null,
            "left": null,
            "margin": null,
            "max_height": null,
            "max_width": null,
            "min_height": null,
            "min_width": null,
            "object_fit": null,
            "object_position": null,
            "order": null,
            "overflow": null,
            "overflow_x": null,
            "overflow_y": null,
            "padding": null,
            "right": null,
            "top": null,
            "visibility": null,
            "width": null
          }
        },
        "4c5e1248c2f94efbbced1dda0c552fc2": {
          "model_module": "@jupyter-widgets/controls",
          "model_name": "DescriptionStyleModel",
          "model_module_version": "1.5.0",
          "state": {
            "_model_module": "@jupyter-widgets/controls",
            "_model_module_version": "1.5.0",
            "_model_name": "DescriptionStyleModel",
            "_view_count": null,
            "_view_module": "@jupyter-widgets/base",
            "_view_module_version": "1.2.0",
            "_view_name": "StyleView",
            "description_width": ""
          }
        },
        "39d4bd09024247689830247e470650be": {
          "model_module": "@jupyter-widgets/controls",
          "model_name": "HBoxModel",
          "model_module_version": "1.5.0",
          "state": {
            "_dom_classes": [],
            "_model_module": "@jupyter-widgets/controls",
            "_model_module_version": "1.5.0",
            "_model_name": "HBoxModel",
            "_view_count": null,
            "_view_module": "@jupyter-widgets/controls",
            "_view_module_version": "1.5.0",
            "_view_name": "HBoxView",
            "box_style": "",
            "children": [
              "IPY_MODEL_4f3613ca3d3c438d845e4acce90e08b8",
              "IPY_MODEL_c5e696cb86574d5dac7cfe862fcc80a6",
              "IPY_MODEL_876753bdb2414071bf65910ce8f2870b"
            ],
            "layout": "IPY_MODEL_443ba02c0ddf433dbc3048b753293e2f"
          }
        },
        "4f3613ca3d3c438d845e4acce90e08b8": {
          "model_module": "@jupyter-widgets/controls",
          "model_name": "HTMLModel",
          "model_module_version": "1.5.0",
          "state": {
            "_dom_classes": [],
            "_model_module": "@jupyter-widgets/controls",
            "_model_module_version": "1.5.0",
            "_model_name": "HTMLModel",
            "_view_count": null,
            "_view_module": "@jupyter-widgets/controls",
            "_view_module_version": "1.5.0",
            "_view_name": "HTMLView",
            "description": "",
            "description_tooltip": null,
            "layout": "IPY_MODEL_c2f39fe8b6d045bd8b8e7f97325257e4",
            "placeholder": "​",
            "style": "IPY_MODEL_7c3548e81bca4c13979bde40c04a344f",
            "value": "tokenizer.json: 100%"
          }
        },
        "c5e696cb86574d5dac7cfe862fcc80a6": {
          "model_module": "@jupyter-widgets/controls",
          "model_name": "FloatProgressModel",
          "model_module_version": "1.5.0",
          "state": {
            "_dom_classes": [],
            "_model_module": "@jupyter-widgets/controls",
            "_model_module_version": "1.5.0",
            "_model_name": "FloatProgressModel",
            "_view_count": null,
            "_view_module": "@jupyter-widgets/controls",
            "_view_module_version": "1.5.0",
            "_view_name": "ProgressView",
            "bar_style": "success",
            "description": "",
            "description_tooltip": null,
            "layout": "IPY_MODEL_6b9de5d4a49b4932b70751e0d7d76d9f",
            "max": 466062,
            "min": 0,
            "orientation": "horizontal",
            "style": "IPY_MODEL_9c573837f3974eb5bbdcc2ccea9f28b7",
            "value": 466062
          }
        },
        "876753bdb2414071bf65910ce8f2870b": {
          "model_module": "@jupyter-widgets/controls",
          "model_name": "HTMLModel",
          "model_module_version": "1.5.0",
          "state": {
            "_dom_classes": [],
            "_model_module": "@jupyter-widgets/controls",
            "_model_module_version": "1.5.0",
            "_model_name": "HTMLModel",
            "_view_count": null,
            "_view_module": "@jupyter-widgets/controls",
            "_view_module_version": "1.5.0",
            "_view_name": "HTMLView",
            "description": "",
            "description_tooltip": null,
            "layout": "IPY_MODEL_ba7f9e57fa4e4eb0a26bea29104885a1",
            "placeholder": "​",
            "style": "IPY_MODEL_253d6cd2e91646bab5826eef970e9059",
            "value": " 466k/466k [00:00&lt;00:00, 27.4MB/s]"
          }
        },
        "443ba02c0ddf433dbc3048b753293e2f": {
          "model_module": "@jupyter-widgets/base",
          "model_name": "LayoutModel",
          "model_module_version": "1.2.0",
          "state": {
            "_model_module": "@jupyter-widgets/base",
            "_model_module_version": "1.2.0",
            "_model_name": "LayoutModel",
            "_view_count": null,
            "_view_module": "@jupyter-widgets/base",
            "_view_module_version": "1.2.0",
            "_view_name": "LayoutView",
            "align_content": null,
            "align_items": null,
            "align_self": null,
            "border": null,
            "bottom": null,
            "display": null,
            "flex": null,
            "flex_flow": null,
            "grid_area": null,
            "grid_auto_columns": null,
            "grid_auto_flow": null,
            "grid_auto_rows": null,
            "grid_column": null,
            "grid_gap": null,
            "grid_row": null,
            "grid_template_areas": null,
            "grid_template_columns": null,
            "grid_template_rows": null,
            "height": null,
            "justify_content": null,
            "justify_items": null,
            "left": null,
            "margin": null,
            "max_height": null,
            "max_width": null,
            "min_height": null,
            "min_width": null,
            "object_fit": null,
            "object_position": null,
            "order": null,
            "overflow": null,
            "overflow_x": null,
            "overflow_y": null,
            "padding": null,
            "right": null,
            "top": null,
            "visibility": null,
            "width": null
          }
        },
        "c2f39fe8b6d045bd8b8e7f97325257e4": {
          "model_module": "@jupyter-widgets/base",
          "model_name": "LayoutModel",
          "model_module_version": "1.2.0",
          "state": {
            "_model_module": "@jupyter-widgets/base",
            "_model_module_version": "1.2.0",
            "_model_name": "LayoutModel",
            "_view_count": null,
            "_view_module": "@jupyter-widgets/base",
            "_view_module_version": "1.2.0",
            "_view_name": "LayoutView",
            "align_content": null,
            "align_items": null,
            "align_self": null,
            "border": null,
            "bottom": null,
            "display": null,
            "flex": null,
            "flex_flow": null,
            "grid_area": null,
            "grid_auto_columns": null,
            "grid_auto_flow": null,
            "grid_auto_rows": null,
            "grid_column": null,
            "grid_gap": null,
            "grid_row": null,
            "grid_template_areas": null,
            "grid_template_columns": null,
            "grid_template_rows": null,
            "height": null,
            "justify_content": null,
            "justify_items": null,
            "left": null,
            "margin": null,
            "max_height": null,
            "max_width": null,
            "min_height": null,
            "min_width": null,
            "object_fit": null,
            "object_position": null,
            "order": null,
            "overflow": null,
            "overflow_x": null,
            "overflow_y": null,
            "padding": null,
            "right": null,
            "top": null,
            "visibility": null,
            "width": null
          }
        },
        "7c3548e81bca4c13979bde40c04a344f": {
          "model_module": "@jupyter-widgets/controls",
          "model_name": "DescriptionStyleModel",
          "model_module_version": "1.5.0",
          "state": {
            "_model_module": "@jupyter-widgets/controls",
            "_model_module_version": "1.5.0",
            "_model_name": "DescriptionStyleModel",
            "_view_count": null,
            "_view_module": "@jupyter-widgets/base",
            "_view_module_version": "1.2.0",
            "_view_name": "StyleView",
            "description_width": ""
          }
        },
        "6b9de5d4a49b4932b70751e0d7d76d9f": {
          "model_module": "@jupyter-widgets/base",
          "model_name": "LayoutModel",
          "model_module_version": "1.2.0",
          "state": {
            "_model_module": "@jupyter-widgets/base",
            "_model_module_version": "1.2.0",
            "_model_name": "LayoutModel",
            "_view_count": null,
            "_view_module": "@jupyter-widgets/base",
            "_view_module_version": "1.2.0",
            "_view_name": "LayoutView",
            "align_content": null,
            "align_items": null,
            "align_self": null,
            "border": null,
            "bottom": null,
            "display": null,
            "flex": null,
            "flex_flow": null,
            "grid_area": null,
            "grid_auto_columns": null,
            "grid_auto_flow": null,
            "grid_auto_rows": null,
            "grid_column": null,
            "grid_gap": null,
            "grid_row": null,
            "grid_template_areas": null,
            "grid_template_columns": null,
            "grid_template_rows": null,
            "height": null,
            "justify_content": null,
            "justify_items": null,
            "left": null,
            "margin": null,
            "max_height": null,
            "max_width": null,
            "min_height": null,
            "min_width": null,
            "object_fit": null,
            "object_position": null,
            "order": null,
            "overflow": null,
            "overflow_x": null,
            "overflow_y": null,
            "padding": null,
            "right": null,
            "top": null,
            "visibility": null,
            "width": null
          }
        },
        "9c573837f3974eb5bbdcc2ccea9f28b7": {
          "model_module": "@jupyter-widgets/controls",
          "model_name": "ProgressStyleModel",
          "model_module_version": "1.5.0",
          "state": {
            "_model_module": "@jupyter-widgets/controls",
            "_model_module_version": "1.5.0",
            "_model_name": "ProgressStyleModel",
            "_view_count": null,
            "_view_module": "@jupyter-widgets/base",
            "_view_module_version": "1.2.0",
            "_view_name": "StyleView",
            "bar_color": null,
            "description_width": ""
          }
        },
        "ba7f9e57fa4e4eb0a26bea29104885a1": {
          "model_module": "@jupyter-widgets/base",
          "model_name": "LayoutModel",
          "model_module_version": "1.2.0",
          "state": {
            "_model_module": "@jupyter-widgets/base",
            "_model_module_version": "1.2.0",
            "_model_name": "LayoutModel",
            "_view_count": null,
            "_view_module": "@jupyter-widgets/base",
            "_view_module_version": "1.2.0",
            "_view_name": "LayoutView",
            "align_content": null,
            "align_items": null,
            "align_self": null,
            "border": null,
            "bottom": null,
            "display": null,
            "flex": null,
            "flex_flow": null,
            "grid_area": null,
            "grid_auto_columns": null,
            "grid_auto_flow": null,
            "grid_auto_rows": null,
            "grid_column": null,
            "grid_gap": null,
            "grid_row": null,
            "grid_template_areas": null,
            "grid_template_columns": null,
            "grid_template_rows": null,
            "height": null,
            "justify_content": null,
            "justify_items": null,
            "left": null,
            "margin": null,
            "max_height": null,
            "max_width": null,
            "min_height": null,
            "min_width": null,
            "object_fit": null,
            "object_position": null,
            "order": null,
            "overflow": null,
            "overflow_x": null,
            "overflow_y": null,
            "padding": null,
            "right": null,
            "top": null,
            "visibility": null,
            "width": null
          }
        },
        "253d6cd2e91646bab5826eef970e9059": {
          "model_module": "@jupyter-widgets/controls",
          "model_name": "DescriptionStyleModel",
          "model_module_version": "1.5.0",
          "state": {
            "_model_module": "@jupyter-widgets/controls",
            "_model_module_version": "1.5.0",
            "_model_name": "DescriptionStyleModel",
            "_view_count": null,
            "_view_module": "@jupyter-widgets/base",
            "_view_module_version": "1.2.0",
            "_view_name": "StyleView",
            "description_width": ""
          }
        },
        "18b747d396b846cba4f9b265dbadf6c0": {
          "model_module": "@jupyter-widgets/controls",
          "model_name": "HBoxModel",
          "model_module_version": "1.5.0",
          "state": {
            "_dom_classes": [],
            "_model_module": "@jupyter-widgets/controls",
            "_model_module_version": "1.5.0",
            "_model_name": "HBoxModel",
            "_view_count": null,
            "_view_module": "@jupyter-widgets/controls",
            "_view_module_version": "1.5.0",
            "_view_name": "HBoxView",
            "box_style": "",
            "children": [
              "IPY_MODEL_ce63999a298e495a980cc3dc399bbd01",
              "IPY_MODEL_0789fbb268ff42ef9a7b17542ec56bdc",
              "IPY_MODEL_8489d216cfe24756bc3f85b7bdf8c410"
            ],
            "layout": "IPY_MODEL_f87454f0139d4a75ae2b827e1bc1188b"
          }
        },
        "ce63999a298e495a980cc3dc399bbd01": {
          "model_module": "@jupyter-widgets/controls",
          "model_name": "HTMLModel",
          "model_module_version": "1.5.0",
          "state": {
            "_dom_classes": [],
            "_model_module": "@jupyter-widgets/controls",
            "_model_module_version": "1.5.0",
            "_model_name": "HTMLModel",
            "_view_count": null,
            "_view_module": "@jupyter-widgets/controls",
            "_view_module_version": "1.5.0",
            "_view_name": "HTMLView",
            "description": "",
            "description_tooltip": null,
            "layout": "IPY_MODEL_69c08a9e15fc44caa9991d2ad5e149c1",
            "placeholder": "​",
            "style": "IPY_MODEL_11ff39820f95439dbef0f1d3f00fad05",
            "value": "config.json: 100%"
          }
        },
        "0789fbb268ff42ef9a7b17542ec56bdc": {
          "model_module": "@jupyter-widgets/controls",
          "model_name": "FloatProgressModel",
          "model_module_version": "1.5.0",
          "state": {
            "_dom_classes": [],
            "_model_module": "@jupyter-widgets/controls",
            "_model_module_version": "1.5.0",
            "_model_name": "FloatProgressModel",
            "_view_count": null,
            "_view_module": "@jupyter-widgets/controls",
            "_view_module_version": "1.5.0",
            "_view_name": "ProgressView",
            "bar_style": "success",
            "description": "",
            "description_tooltip": null,
            "layout": "IPY_MODEL_3082e4b7179145dd85d81a1a99a289b2",
            "max": 570,
            "min": 0,
            "orientation": "horizontal",
            "style": "IPY_MODEL_27672fd1225243ab994d643dbbde8e45",
            "value": 570
          }
        },
        "8489d216cfe24756bc3f85b7bdf8c410": {
          "model_module": "@jupyter-widgets/controls",
          "model_name": "HTMLModel",
          "model_module_version": "1.5.0",
          "state": {
            "_dom_classes": [],
            "_model_module": "@jupyter-widgets/controls",
            "_model_module_version": "1.5.0",
            "_model_name": "HTMLModel",
            "_view_count": null,
            "_view_module": "@jupyter-widgets/controls",
            "_view_module_version": "1.5.0",
            "_view_name": "HTMLView",
            "description": "",
            "description_tooltip": null,
            "layout": "IPY_MODEL_ef4dd5a093564932abfed74d78729349",
            "placeholder": "​",
            "style": "IPY_MODEL_017039c3f7aa41c5833ca28fecbb15f1",
            "value": " 570/570 [00:00&lt;00:00, 48.4kB/s]"
          }
        },
        "f87454f0139d4a75ae2b827e1bc1188b": {
          "model_module": "@jupyter-widgets/base",
          "model_name": "LayoutModel",
          "model_module_version": "1.2.0",
          "state": {
            "_model_module": "@jupyter-widgets/base",
            "_model_module_version": "1.2.0",
            "_model_name": "LayoutModel",
            "_view_count": null,
            "_view_module": "@jupyter-widgets/base",
            "_view_module_version": "1.2.0",
            "_view_name": "LayoutView",
            "align_content": null,
            "align_items": null,
            "align_self": null,
            "border": null,
            "bottom": null,
            "display": null,
            "flex": null,
            "flex_flow": null,
            "grid_area": null,
            "grid_auto_columns": null,
            "grid_auto_flow": null,
            "grid_auto_rows": null,
            "grid_column": null,
            "grid_gap": null,
            "grid_row": null,
            "grid_template_areas": null,
            "grid_template_columns": null,
            "grid_template_rows": null,
            "height": null,
            "justify_content": null,
            "justify_items": null,
            "left": null,
            "margin": null,
            "max_height": null,
            "max_width": null,
            "min_height": null,
            "min_width": null,
            "object_fit": null,
            "object_position": null,
            "order": null,
            "overflow": null,
            "overflow_x": null,
            "overflow_y": null,
            "padding": null,
            "right": null,
            "top": null,
            "visibility": null,
            "width": null
          }
        },
        "69c08a9e15fc44caa9991d2ad5e149c1": {
          "model_module": "@jupyter-widgets/base",
          "model_name": "LayoutModel",
          "model_module_version": "1.2.0",
          "state": {
            "_model_module": "@jupyter-widgets/base",
            "_model_module_version": "1.2.0",
            "_model_name": "LayoutModel",
            "_view_count": null,
            "_view_module": "@jupyter-widgets/base",
            "_view_module_version": "1.2.0",
            "_view_name": "LayoutView",
            "align_content": null,
            "align_items": null,
            "align_self": null,
            "border": null,
            "bottom": null,
            "display": null,
            "flex": null,
            "flex_flow": null,
            "grid_area": null,
            "grid_auto_columns": null,
            "grid_auto_flow": null,
            "grid_auto_rows": null,
            "grid_column": null,
            "grid_gap": null,
            "grid_row": null,
            "grid_template_areas": null,
            "grid_template_columns": null,
            "grid_template_rows": null,
            "height": null,
            "justify_content": null,
            "justify_items": null,
            "left": null,
            "margin": null,
            "max_height": null,
            "max_width": null,
            "min_height": null,
            "min_width": null,
            "object_fit": null,
            "object_position": null,
            "order": null,
            "overflow": null,
            "overflow_x": null,
            "overflow_y": null,
            "padding": null,
            "right": null,
            "top": null,
            "visibility": null,
            "width": null
          }
        },
        "11ff39820f95439dbef0f1d3f00fad05": {
          "model_module": "@jupyter-widgets/controls",
          "model_name": "DescriptionStyleModel",
          "model_module_version": "1.5.0",
          "state": {
            "_model_module": "@jupyter-widgets/controls",
            "_model_module_version": "1.5.0",
            "_model_name": "DescriptionStyleModel",
            "_view_count": null,
            "_view_module": "@jupyter-widgets/base",
            "_view_module_version": "1.2.0",
            "_view_name": "StyleView",
            "description_width": ""
          }
        },
        "3082e4b7179145dd85d81a1a99a289b2": {
          "model_module": "@jupyter-widgets/base",
          "model_name": "LayoutModel",
          "model_module_version": "1.2.0",
          "state": {
            "_model_module": "@jupyter-widgets/base",
            "_model_module_version": "1.2.0",
            "_model_name": "LayoutModel",
            "_view_count": null,
            "_view_module": "@jupyter-widgets/base",
            "_view_module_version": "1.2.0",
            "_view_name": "LayoutView",
            "align_content": null,
            "align_items": null,
            "align_self": null,
            "border": null,
            "bottom": null,
            "display": null,
            "flex": null,
            "flex_flow": null,
            "grid_area": null,
            "grid_auto_columns": null,
            "grid_auto_flow": null,
            "grid_auto_rows": null,
            "grid_column": null,
            "grid_gap": null,
            "grid_row": null,
            "grid_template_areas": null,
            "grid_template_columns": null,
            "grid_template_rows": null,
            "height": null,
            "justify_content": null,
            "justify_items": null,
            "left": null,
            "margin": null,
            "max_height": null,
            "max_width": null,
            "min_height": null,
            "min_width": null,
            "object_fit": null,
            "object_position": null,
            "order": null,
            "overflow": null,
            "overflow_x": null,
            "overflow_y": null,
            "padding": null,
            "right": null,
            "top": null,
            "visibility": null,
            "width": null
          }
        },
        "27672fd1225243ab994d643dbbde8e45": {
          "model_module": "@jupyter-widgets/controls",
          "model_name": "ProgressStyleModel",
          "model_module_version": "1.5.0",
          "state": {
            "_model_module": "@jupyter-widgets/controls",
            "_model_module_version": "1.5.0",
            "_model_name": "ProgressStyleModel",
            "_view_count": null,
            "_view_module": "@jupyter-widgets/base",
            "_view_module_version": "1.2.0",
            "_view_name": "StyleView",
            "bar_color": null,
            "description_width": ""
          }
        },
        "ef4dd5a093564932abfed74d78729349": {
          "model_module": "@jupyter-widgets/base",
          "model_name": "LayoutModel",
          "model_module_version": "1.2.0",
          "state": {
            "_model_module": "@jupyter-widgets/base",
            "_model_module_version": "1.2.0",
            "_model_name": "LayoutModel",
            "_view_count": null,
            "_view_module": "@jupyter-widgets/base",
            "_view_module_version": "1.2.0",
            "_view_name": "LayoutView",
            "align_content": null,
            "align_items": null,
            "align_self": null,
            "border": null,
            "bottom": null,
            "display": null,
            "flex": null,
            "flex_flow": null,
            "grid_area": null,
            "grid_auto_columns": null,
            "grid_auto_flow": null,
            "grid_auto_rows": null,
            "grid_column": null,
            "grid_gap": null,
            "grid_row": null,
            "grid_template_areas": null,
            "grid_template_columns": null,
            "grid_template_rows": null,
            "height": null,
            "justify_content": null,
            "justify_items": null,
            "left": null,
            "margin": null,
            "max_height": null,
            "max_width": null,
            "min_height": null,
            "min_width": null,
            "object_fit": null,
            "object_position": null,
            "order": null,
            "overflow": null,
            "overflow_x": null,
            "overflow_y": null,
            "padding": null,
            "right": null,
            "top": null,
            "visibility": null,
            "width": null
          }
        },
        "017039c3f7aa41c5833ca28fecbb15f1": {
          "model_module": "@jupyter-widgets/controls",
          "model_name": "DescriptionStyleModel",
          "model_module_version": "1.5.0",
          "state": {
            "_model_module": "@jupyter-widgets/controls",
            "_model_module_version": "1.5.0",
            "_model_name": "DescriptionStyleModel",
            "_view_count": null,
            "_view_module": "@jupyter-widgets/base",
            "_view_module_version": "1.2.0",
            "_view_name": "StyleView",
            "description_width": ""
          }
        },
        "f656652454a249fe87d963f127bad247": {
          "model_module": "@jupyter-widgets/controls",
          "model_name": "HBoxModel",
          "model_module_version": "1.5.0",
          "state": {
            "_dom_classes": [],
            "_model_module": "@jupyter-widgets/controls",
            "_model_module_version": "1.5.0",
            "_model_name": "HBoxModel",
            "_view_count": null,
            "_view_module": "@jupyter-widgets/controls",
            "_view_module_version": "1.5.0",
            "_view_name": "HBoxView",
            "box_style": "",
            "children": [
              "IPY_MODEL_c77c6464929549fd8ef4ad462840a75d",
              "IPY_MODEL_edbd30ef3aa24f729ac46170bcec92ba",
              "IPY_MODEL_d7efcdec34c34a73a4bd43fc7f14f5df"
            ],
            "layout": "IPY_MODEL_c8966bf0d54b4d6095420888222517ee"
          }
        },
        "c77c6464929549fd8ef4ad462840a75d": {
          "model_module": "@jupyter-widgets/controls",
          "model_name": "HTMLModel",
          "model_module_version": "1.5.0",
          "state": {
            "_dom_classes": [],
            "_model_module": "@jupyter-widgets/controls",
            "_model_module_version": "1.5.0",
            "_model_name": "HTMLModel",
            "_view_count": null,
            "_view_module": "@jupyter-widgets/controls",
            "_view_module_version": "1.5.0",
            "_view_name": "HTMLView",
            "description": "",
            "description_tooltip": null,
            "layout": "IPY_MODEL_1167447af5074203b7558c1a552d5f8c",
            "placeholder": "​",
            "style": "IPY_MODEL_e0477b5cf45f469cbdfff3a15b4aad6e",
            "value": "model.safetensors: 100%"
          }
        },
        "edbd30ef3aa24f729ac46170bcec92ba": {
          "model_module": "@jupyter-widgets/controls",
          "model_name": "FloatProgressModel",
          "model_module_version": "1.5.0",
          "state": {
            "_dom_classes": [],
            "_model_module": "@jupyter-widgets/controls",
            "_model_module_version": "1.5.0",
            "_model_name": "FloatProgressModel",
            "_view_count": null,
            "_view_module": "@jupyter-widgets/controls",
            "_view_module_version": "1.5.0",
            "_view_name": "ProgressView",
            "bar_style": "success",
            "description": "",
            "description_tooltip": null,
            "layout": "IPY_MODEL_2e7b608a61e84e518d3ba933bb359046",
            "max": 440449768,
            "min": 0,
            "orientation": "horizontal",
            "style": "IPY_MODEL_dcf78ea8d54e4facb5750cada3cd143c",
            "value": 440449768
          }
        },
        "d7efcdec34c34a73a4bd43fc7f14f5df": {
          "model_module": "@jupyter-widgets/controls",
          "model_name": "HTMLModel",
          "model_module_version": "1.5.0",
          "state": {
            "_dom_classes": [],
            "_model_module": "@jupyter-widgets/controls",
            "_model_module_version": "1.5.0",
            "_model_name": "HTMLModel",
            "_view_count": null,
            "_view_module": "@jupyter-widgets/controls",
            "_view_module_version": "1.5.0",
            "_view_name": "HTMLView",
            "description": "",
            "description_tooltip": null,
            "layout": "IPY_MODEL_010461382e95440995e6f9d5fa4b9a96",
            "placeholder": "​",
            "style": "IPY_MODEL_c0d54dbc7b7042bd88577a3c45703da6",
            "value": " 440M/440M [00:01&lt;00:00, 329MB/s]"
          }
        },
        "c8966bf0d54b4d6095420888222517ee": {
          "model_module": "@jupyter-widgets/base",
          "model_name": "LayoutModel",
          "model_module_version": "1.2.0",
          "state": {
            "_model_module": "@jupyter-widgets/base",
            "_model_module_version": "1.2.0",
            "_model_name": "LayoutModel",
            "_view_count": null,
            "_view_module": "@jupyter-widgets/base",
            "_view_module_version": "1.2.0",
            "_view_name": "LayoutView",
            "align_content": null,
            "align_items": null,
            "align_self": null,
            "border": null,
            "bottom": null,
            "display": null,
            "flex": null,
            "flex_flow": null,
            "grid_area": null,
            "grid_auto_columns": null,
            "grid_auto_flow": null,
            "grid_auto_rows": null,
            "grid_column": null,
            "grid_gap": null,
            "grid_row": null,
            "grid_template_areas": null,
            "grid_template_columns": null,
            "grid_template_rows": null,
            "height": null,
            "justify_content": null,
            "justify_items": null,
            "left": null,
            "margin": null,
            "max_height": null,
            "max_width": null,
            "min_height": null,
            "min_width": null,
            "object_fit": null,
            "object_position": null,
            "order": null,
            "overflow": null,
            "overflow_x": null,
            "overflow_y": null,
            "padding": null,
            "right": null,
            "top": null,
            "visibility": null,
            "width": null
          }
        },
        "1167447af5074203b7558c1a552d5f8c": {
          "model_module": "@jupyter-widgets/base",
          "model_name": "LayoutModel",
          "model_module_version": "1.2.0",
          "state": {
            "_model_module": "@jupyter-widgets/base",
            "_model_module_version": "1.2.0",
            "_model_name": "LayoutModel",
            "_view_count": null,
            "_view_module": "@jupyter-widgets/base",
            "_view_module_version": "1.2.0",
            "_view_name": "LayoutView",
            "align_content": null,
            "align_items": null,
            "align_self": null,
            "border": null,
            "bottom": null,
            "display": null,
            "flex": null,
            "flex_flow": null,
            "grid_area": null,
            "grid_auto_columns": null,
            "grid_auto_flow": null,
            "grid_auto_rows": null,
            "grid_column": null,
            "grid_gap": null,
            "grid_row": null,
            "grid_template_areas": null,
            "grid_template_columns": null,
            "grid_template_rows": null,
            "height": null,
            "justify_content": null,
            "justify_items": null,
            "left": null,
            "margin": null,
            "max_height": null,
            "max_width": null,
            "min_height": null,
            "min_width": null,
            "object_fit": null,
            "object_position": null,
            "order": null,
            "overflow": null,
            "overflow_x": null,
            "overflow_y": null,
            "padding": null,
            "right": null,
            "top": null,
            "visibility": null,
            "width": null
          }
        },
        "e0477b5cf45f469cbdfff3a15b4aad6e": {
          "model_module": "@jupyter-widgets/controls",
          "model_name": "DescriptionStyleModel",
          "model_module_version": "1.5.0",
          "state": {
            "_model_module": "@jupyter-widgets/controls",
            "_model_module_version": "1.5.0",
            "_model_name": "DescriptionStyleModel",
            "_view_count": null,
            "_view_module": "@jupyter-widgets/base",
            "_view_module_version": "1.2.0",
            "_view_name": "StyleView",
            "description_width": ""
          }
        },
        "2e7b608a61e84e518d3ba933bb359046": {
          "model_module": "@jupyter-widgets/base",
          "model_name": "LayoutModel",
          "model_module_version": "1.2.0",
          "state": {
            "_model_module": "@jupyter-widgets/base",
            "_model_module_version": "1.2.0",
            "_model_name": "LayoutModel",
            "_view_count": null,
            "_view_module": "@jupyter-widgets/base",
            "_view_module_version": "1.2.0",
            "_view_name": "LayoutView",
            "align_content": null,
            "align_items": null,
            "align_self": null,
            "border": null,
            "bottom": null,
            "display": null,
            "flex": null,
            "flex_flow": null,
            "grid_area": null,
            "grid_auto_columns": null,
            "grid_auto_flow": null,
            "grid_auto_rows": null,
            "grid_column": null,
            "grid_gap": null,
            "grid_row": null,
            "grid_template_areas": null,
            "grid_template_columns": null,
            "grid_template_rows": null,
            "height": null,
            "justify_content": null,
            "justify_items": null,
            "left": null,
            "margin": null,
            "max_height": null,
            "max_width": null,
            "min_height": null,
            "min_width": null,
            "object_fit": null,
            "object_position": null,
            "order": null,
            "overflow": null,
            "overflow_x": null,
            "overflow_y": null,
            "padding": null,
            "right": null,
            "top": null,
            "visibility": null,
            "width": null
          }
        },
        "dcf78ea8d54e4facb5750cada3cd143c": {
          "model_module": "@jupyter-widgets/controls",
          "model_name": "ProgressStyleModel",
          "model_module_version": "1.5.0",
          "state": {
            "_model_module": "@jupyter-widgets/controls",
            "_model_module_version": "1.5.0",
            "_model_name": "ProgressStyleModel",
            "_view_count": null,
            "_view_module": "@jupyter-widgets/base",
            "_view_module_version": "1.2.0",
            "_view_name": "StyleView",
            "bar_color": null,
            "description_width": ""
          }
        },
        "010461382e95440995e6f9d5fa4b9a96": {
          "model_module": "@jupyter-widgets/base",
          "model_name": "LayoutModel",
          "model_module_version": "1.2.0",
          "state": {
            "_model_module": "@jupyter-widgets/base",
            "_model_module_version": "1.2.0",
            "_model_name": "LayoutModel",
            "_view_count": null,
            "_view_module": "@jupyter-widgets/base",
            "_view_module_version": "1.2.0",
            "_view_name": "LayoutView",
            "align_content": null,
            "align_items": null,
            "align_self": null,
            "border": null,
            "bottom": null,
            "display": null,
            "flex": null,
            "flex_flow": null,
            "grid_area": null,
            "grid_auto_columns": null,
            "grid_auto_flow": null,
            "grid_auto_rows": null,
            "grid_column": null,
            "grid_gap": null,
            "grid_row": null,
            "grid_template_areas": null,
            "grid_template_columns": null,
            "grid_template_rows": null,
            "height": null,
            "justify_content": null,
            "justify_items": null,
            "left": null,
            "margin": null,
            "max_height": null,
            "max_width": null,
            "min_height": null,
            "min_width": null,
            "object_fit": null,
            "object_position": null,
            "order": null,
            "overflow": null,
            "overflow_x": null,
            "overflow_y": null,
            "padding": null,
            "right": null,
            "top": null,
            "visibility": null,
            "width": null
          }
        },
        "c0d54dbc7b7042bd88577a3c45703da6": {
          "model_module": "@jupyter-widgets/controls",
          "model_name": "DescriptionStyleModel",
          "model_module_version": "1.5.0",
          "state": {
            "_model_module": "@jupyter-widgets/controls",
            "_model_module_version": "1.5.0",
            "_model_name": "DescriptionStyleModel",
            "_view_count": null,
            "_view_module": "@jupyter-widgets/base",
            "_view_module_version": "1.2.0",
            "_view_name": "StyleView",
            "description_width": ""
          }
        }
      }
    }
  },
  "cells": [
    {
      "cell_type": "code",
      "execution_count": 1,
      "metadata": {
        "id": "2jYY53HZTCL0"
      },
      "outputs": [],
      "source": [
        "import numpy as np\n",
        "import pandas as pd\n",
        "import matplotlib.pyplot as plt\n",
        "import seaborn as sns\n",
        "import torch\n",
        "import torch.nn as nn\n",
        "import torch.optim as optim\n",
        "from transformers import BertTokenizer, BertModel, get_linear_schedule_with_warmup\n",
        "from torch.utils.data import DataLoader, Dataset, RandomSampler\n",
        "from sklearn.model_selection import train_test_split\n",
        "from sklearn.feature_extraction.text import CountVectorizer\n",
        "from sklearn.linear_model import LogisticRegression\n",
        "from sklearn.metrics import accuracy_score, precision_score, recall_score, f1_score, classification_report\n",
        "import ast\n",
        "from tqdm import tqdm"
      ]
    },
    {
      "cell_type": "code",
      "source": [
        "# Load and Process Dataset\n",
        "df_credits = pd.read_csv('/content/tmdb_5000_credits.csv')\n",
        "df_movies = pd.read_csv('/content/tmdb_5000_movies.csv')\n",
        "\n",
        "# First, let's check the column names in both dataframes\n",
        "print(\"Credits columns:\", df_credits.columns.tolist())\n",
        "print(\"Movies columns:\", df_movies.columns.tolist())\n",
        "\n",
        "# Rename columns in df_credits to match df_movies\n",
        "df_credits.columns = ['id', 'title', 'cast', 'crew']\n",
        "\n",
        "# Merge dataframes and check the columns in the merged dataframe\n",
        "df_movielens = pd.merge(df_credits, df_movies, on='id')\n",
        "print(\"Merged dataframe columns:\", df_movielens.columns.tolist())\n",
        "\n",
        "# Check if 'title' is in the merged dataframe\n",
        "if 'title' not in df_movielens.columns:\n",
        "    # Find which column contains the title information\n",
        "    if 'title_x' in df_movielens.columns:\n",
        "        df_movielens['title'] = df_movielens['title_x']\n",
        "    elif 'original_title' in df_movielens.columns:\n",
        "        df_movielens['title'] = df_movielens['original_title']\n",
        "\n",
        "# Filter movies with significant votes\n",
        "vote_count_threshold = df_movielens['vote_count'].quantile(q=0.9)\n",
        "df_filtered = df_movielens[df_movielens['vote_count'] > vote_count_threshold].copy()  # Create a copy to avoid the warning\n",
        "\n",
        "# Calculate weighted rating\n",
        "def movie_score(x):\n",
        "    v = x['vote_count']\n",
        "    m = vote_count_threshold\n",
        "    R = x['vote_average']\n",
        "    C = df_movielens['vote_average'].mean()\n",
        "    return ((R*v)/(v+m)) + ((C*m)/(v+m))\n",
        "\n",
        "# Apply score calculation using .loc to avoid the SettingWithCopyWarning\n",
        "df_filtered.loc[:, 'score'] = df_filtered.apply(movie_score, axis=1)\n",
        "df_highscore = df_filtered.sort_values(by='score', ascending=False)\n",
        "\n",
        "# Print columns to check\n",
        "print(\"Available columns in df_highscore:\", df_highscore.columns.tolist())\n",
        "\n",
        "# Try with the verified list of columns\n",
        "print(df_highscore[['vote_count', 'vote_average', 'popularity', 'score']].head())\n",
        "\n",
        "# Now print with title if it exists\n",
        "if 'title' in df_highscore.columns:\n",
        "    print(df_highscore[['title', 'vote_count', 'vote_average', 'popularity', 'score']].head())\n",
        "elif 'title_x' in df_highscore.columns:\n",
        "    print(df_highscore[['title_x', 'vote_count', 'vote_average', 'popularity', 'score']].head())\n",
        "elif 'original_title' in df_highscore.columns:\n",
        "    print(df_highscore[['original_title', 'vote_count', 'vote_average', 'popularity', 'score']].head())\n",
        "\n",
        "# Save processed data\n",
        "df_highscore.to_csv('output.csv', index=False)\n",
        "\n",
        "# Extract genres from the JSON-like string\n",
        "def extract_genres(genre_str):\n",
        "    try:\n",
        "        genres_list = ast.literal_eval(genre_str)\n",
        "        return ', '.join([genre['name'] for genre in genres_list])\n",
        "    except (ValueError, SyntaxError):\n",
        "        return ''\n",
        "\n",
        "data = df_highscore  # Use the data we already processed\n",
        "data.loc[:, 'genres_extracted'] = data['genres'].apply(extract_genres)\n",
        "\n",
        "# Determine the actual title column\n",
        "title_column = 'title' if 'title' in data.columns else ('title_x' if 'title_x' in data.columns else 'original_title')\n",
        "\n",
        "# Create processed data with the correct title column\n",
        "processed_data = data[[title_column, 'overview', 'genres_extracted', 'vote_average', 'score']]\n",
        "\n",
        "# Create features and target\n",
        "texts = processed_data['overview'].fillna('') + \" \" + processed_data['genres_extracted'].fillna('')\n",
        "# Binary Classification: Is the movie highly rated?\n",
        "labels = (processed_data['vote_average'] >= 7.0).astype(int).tolist()\n",
        "\n",
        "# Split data\n",
        "X_train_text, X_test_text, y_train, y_test = train_test_split(\n",
        "    texts.tolist(), labels, test_size=0.2, random_state=42, stratify=labels\n",
        ")\n",
        "\n",
        "print(f\"Training samples: {len(X_train_text)}, Test samples: {len(X_test_text)}\")\n",
        "print(f\"Positive class distribution in training: {sum(y_train)/len(y_train):.2f}\")\n",
        "print(f\"Positive class distribution in test: {sum(y_test)/len(y_test):.2f}\")"
      ],
      "metadata": {
        "colab": {
          "base_uri": "https://localhost:8080/"
        },
        "id": "P5fbYCOSUMJj",
        "outputId": "80efaf75-ff6a-4014-ea66-fddb87ea7367"
      },
      "execution_count": 3,
      "outputs": [
        {
          "output_type": "stream",
          "name": "stdout",
          "text": [
            "Credits columns: ['movie_id', 'title', 'cast', 'crew']\n",
            "Movies columns: ['budget', 'genres', 'homepage', 'id', 'keywords', 'original_language', 'original_title', 'overview', 'popularity', 'production_companies', 'production_countries', 'release_date', 'revenue', 'runtime', 'spoken_languages', 'status', 'tagline', 'title', 'vote_average', 'vote_count']\n",
            "Merged dataframe columns: ['id', 'title_x', 'cast', 'crew', 'budget', 'genres', 'homepage', 'keywords', 'original_language', 'original_title', 'overview', 'popularity', 'production_companies', 'production_countries', 'release_date', 'revenue', 'runtime', 'spoken_languages', 'status', 'tagline', 'title_y', 'vote_average', 'vote_count']\n",
            "Available columns in df_highscore: ['id', 'title_x', 'cast', 'crew', 'budget', 'genres', 'homepage', 'keywords', 'original_language', 'original_title', 'overview', 'popularity', 'production_companies', 'production_countries', 'release_date', 'revenue', 'runtime', 'spoken_languages', 'status', 'tagline', 'title_y', 'vote_average', 'vote_count', 'title', 'score']\n",
            "      vote_count  vote_average  popularity     score\n",
            "1881        8205           8.5  136.747729  8.059258\n",
            "662         9413           8.3  146.757391  7.939256\n",
            "65         12002           8.2  187.322927  7.920020\n",
            "3232        8428           8.3  121.463076  7.904645\n",
            "96         13752           8.1  167.583710  7.863239\n",
            "                         title  vote_count  vote_average  popularity     score\n",
            "1881  The Shawshank Redemption        8205           8.5  136.747729  8.059258\n",
            "662                 Fight Club        9413           8.3  146.757391  7.939256\n",
            "65             The Dark Knight       12002           8.2  187.322927  7.920020\n",
            "3232              Pulp Fiction        8428           8.3  121.463076  7.904645\n",
            "96                   Inception       13752           8.1  167.583710  7.863239\n",
            "Training samples: 384, Test samples: 97\n",
            "Positive class distribution in training: 0.54\n",
            "Positive class distribution in test: 0.54\n"
          ]
        }
      ]
    },
    {
      "cell_type": "code",
      "source": [
        "\n",
        "# =================== LOGISTIC REGRESSION MODEL ===================\n",
        "print(\"\\n=== Training Logistic Regression Model ===\")\n",
        "vectorizer = CountVectorizer(max_features=5000)\n",
        "X_train_vec = vectorizer.fit_transform(X_train_text)\n",
        "X_test_vec = vectorizer.transform(X_test_text)\n",
        "\n",
        "logistic_model = LogisticRegression(max_iter=1000, C=1.0)\n",
        "logistic_model.fit(X_train_vec, y_train)\n",
        "logistic_preds = logistic_model.predict(X_test_vec)\n",
        "\n",
        "# Evaluate logistic regression\n",
        "print(\"\\n=== Logistic Regression Results ===\")\n",
        "print(f\"Accuracy: {accuracy_score(y_test, logistic_preds):.4f}\")\n",
        "print(f\"Precision: {precision_score(y_test, logistic_preds):.4f}\")\n",
        "print(f\"Recall: {recall_score(y_test, logistic_preds):.4f}\")\n",
        "print(f\"F1 Score: {f1_score(y_test, logistic_preds):.4f}\")\n",
        "print(\"\\nClassification Report:\")"
      ],
      "metadata": {
        "colab": {
          "base_uri": "https://localhost:8080/"
        },
        "id": "Rv3hBwXtTJAk",
        "outputId": "99026a54-ae32-4ec6-df09-466ef5c1d0cd"
      },
      "execution_count": 4,
      "outputs": [
        {
          "output_type": "stream",
          "name": "stdout",
          "text": [
            "\n",
            "=== Training Logistic Regression Model ===\n",
            "\n",
            "=== Logistic Regression Results ===\n",
            "Accuracy: 0.6804\n",
            "Precision: 0.6909\n",
            "Recall: 0.7308\n",
            "F1 Score: 0.7103\n",
            "\n",
            "Classification Report:\n"
          ]
        }
      ]
    },
    {
      "cell_type": "code",
      "source": [
        "# =================== ENHANCED TRANSFORMER MODEL ===================\n",
        "\n",
        "# Enhanced PyTorch Dataset with data augmentation\n",
        "class EnhancedMovieDataset(Dataset):\n",
        "    def __init__(self, texts, labels, tokenizer, max_len=384, augment=False):\n",
        "        self.texts = texts\n",
        "        self.labels = labels\n",
        "        self.tokenizer = tokenizer\n",
        "        self.max_len = max_len\n",
        "        self.augment = augment\n",
        "\n",
        "    def __len__(self):\n",
        "        return len(self.texts)\n",
        "\n",
        "    def simple_augment(self, text):\n",
        "        # Simple text augmentation techniques\n",
        "        import random\n",
        "        words = text.split()\n",
        "        if len(words) <= 10:  # Skip short texts\n",
        "            return text\n",
        "\n",
        "        if random.random() < 0.5:  # Random word dropout\n",
        "            dropout_ratio = random.uniform(0.1, 0.2)\n",
        "            keep_indices = random.sample(range(len(words)), int(len(words) * (1 - dropout_ratio)))\n",
        "            keep_indices.sort()\n",
        "            return \" \".join([words[i] for i in keep_indices])\n",
        "        else:  # Random word shuffle\n",
        "            shuffle_length = random.randint(1, min(5, len(words)//10 + 1))\n",
        "            start_idx = random.randint(0, len(words) - shuffle_length - 1)\n",
        "            shuffled = words[start_idx:start_idx+shuffle_length]\n",
        "            random.shuffle(shuffled)\n",
        "            return \" \".join(words[:start_idx] + shuffled + words[start_idx+shuffle_length:])\n",
        "\n",
        "    def __getitem__(self, idx):\n",
        "        text = self.texts[idx]\n",
        "        label = self.labels[idx]\n",
        "\n",
        "        # Apply data augmentation if enabled\n",
        "        if self.augment and np.random.random() < 0.3:  # 30% chance of augmenting\n",
        "            text = self.simple_augment(text)\n",
        "\n",
        "        encoding = self.tokenizer(\n",
        "            text,\n",
        "            truncation=True,\n",
        "            max_length=self.max_len,\n",
        "            padding='max_length',\n",
        "            return_tensors='pt'\n",
        "        )\n",
        "\n",
        "        return {\n",
        "            'input_ids': encoding['input_ids'].squeeze(),\n",
        "            'attention_mask': encoding['attention_mask'].squeeze(),\n",
        "            'label': torch.tensor(label, dtype=torch.float)\n",
        "        }\n",
        "\n",
        "# Enhanced BERT classifier\n",
        "class EnhancedBertClassifier(nn.Module):\n",
        "    def __init__(self, dropout=0.3, freeze_layers=8):\n",
        "        super(EnhancedBertClassifier, self).__init__()\n",
        "        self.bert = BertModel.from_pretrained('bert-base-uncased')\n",
        "\n",
        "        # Freeze some of the earlier BERT layers to avoid overfitting\n",
        "        if freeze_layers > 0:\n",
        "            for param in self.bert.embeddings.parameters():\n",
        "                param.requires_grad = False\n",
        "\n",
        "            for i in range(freeze_layers):\n",
        "                for param in self.bert.encoder.layer[i].parameters():\n",
        "                    param.requires_grad = False\n",
        "\n",
        "        # Create a more complex classification head\n",
        "        hidden_size = self.bert.config.hidden_size\n",
        "\n",
        "        self.classifier = nn.Sequential(\n",
        "            nn.Linear(hidden_size, hidden_size),\n",
        "            nn.LayerNorm(hidden_size),\n",
        "            nn.Dropout(dropout),\n",
        "            nn.ReLU(),\n",
        "            nn.Linear(hidden_size, 512),\n",
        "            nn.LayerNorm(512),\n",
        "            nn.Dropout(dropout),\n",
        "            nn.ReLU(),\n",
        "            nn.Linear(512, 128),\n",
        "            nn.LayerNorm(128),\n",
        "            nn.Dropout(dropout),\n",
        "            nn.ReLU(),\n",
        "            nn.Linear(128, 1)\n",
        "        )\n",
        "\n",
        "    def forward(self, input_ids, attention_mask):\n",
        "        outputs = self.bert(\n",
        "            input_ids=input_ids,\n",
        "            attention_mask=attention_mask\n",
        "        )\n",
        "\n",
        "        # Use both pooled output and last hidden state\n",
        "        pooled_output = outputs.pooler_output\n",
        "        logits = self.classifier(pooled_output)\n",
        "        return torch.sigmoid(logits)\n",
        "\n",
        "# Weighted BCELoss for handling any class imbalance\n",
        "class WeightedBCELoss(nn.Module):\n",
        "    def __init__(self, pos_weight=2.0):\n",
        "        super(WeightedBCELoss, self).__init__()\n",
        "        self.pos_weight = pos_weight\n",
        "\n",
        "    def forward(self, pred, target):\n",
        "        loss = - (self.pos_weight * target * torch.log(pred + 1e-7) +\n",
        "                 (1 - target) * torch.log(1 - pred + 1e-7))\n",
        "        return loss.mean()\n",
        "\n",
        "# Training function with gradient accumulation\n",
        "def train_enhanced_model(model, train_loader, optimizer, scheduler, criterion, device,\n",
        "                         gradient_accumulation_steps=4, clip_grad_norm=1.0):\n",
        "    model.train()\n",
        "    total_loss = 0\n",
        "\n",
        "    progress_bar = tqdm(train_loader, desc=\"Training\")\n",
        "    optimizer.zero_grad()\n",
        "\n",
        "    for idx, batch in enumerate(progress_bar):\n",
        "        input_ids = batch['input_ids'].to(device)\n",
        "        attention_mask = batch['attention_mask'].to(device)\n",
        "        labels = batch['label'].to(device)\n",
        "\n",
        "        outputs = model(input_ids, attention_mask).squeeze()\n",
        "        loss = criterion(outputs, labels)\n",
        "\n",
        "        # Normalize loss for gradient accumulation\n",
        "        loss = loss / gradient_accumulation_steps\n",
        "        loss.backward()\n",
        "\n",
        "        if (idx + 1) % gradient_accumulation_steps == 0:\n",
        "            # Clip gradients to prevent exploding gradients\n",
        "            torch.nn.utils.clip_grad_norm_(model.parameters(), clip_grad_norm)\n",
        "\n",
        "            optimizer.step()\n",
        "            scheduler.step()\n",
        "            optimizer.zero_grad()\n",
        "\n",
        "        total_loss += loss.item() * gradient_accumulation_steps\n",
        "        progress_bar.set_postfix({'loss': f'{loss.item() * gradient_accumulation_steps:.4f}'})\n",
        "\n",
        "    return total_loss / len(train_loader)\n",
        "\n",
        "# Enhanced evaluation function with threshold optimization\n",
        "def evaluate_enhanced_model(model, data_loader, device, threshold=0.5):\n",
        "    model.eval()\n",
        "    all_outputs = []\n",
        "    all_labels = []\n",
        "\n",
        "    with torch.no_grad():\n",
        "        for batch in tqdm(data_loader, desc=\"Evaluating\"):\n",
        "            input_ids = batch['input_ids'].to(device)\n",
        "            attention_mask = batch['attention_mask'].to(device)\n",
        "            labels = batch['label'].cpu().numpy()\n",
        "\n",
        "            outputs = model(input_ids, attention_mask).squeeze().cpu().numpy()\n",
        "\n",
        "            # Handle both single item and batch cases\n",
        "            if outputs.ndim == 0:\n",
        "                all_outputs.append(float(outputs))\n",
        "                all_labels.append(float(labels))\n",
        "            else:\n",
        "                all_outputs.extend(outputs.tolist())\n",
        "                all_labels.extend(labels.tolist())\n",
        "\n",
        "    # Find optimal threshold for F1 score\n",
        "    best_f1 = 0\n",
        "    best_threshold = 0.5\n",
        "\n",
        "    for thresh in np.arange(0.3, 0.7, 0.01):\n",
        "        preds = (np.array(all_outputs) > thresh).astype(int)\n",
        "        f1 = f1_score(all_labels, preds)\n",
        "        if f1 > best_f1:\n",
        "            best_f1 = f1\n",
        "            best_threshold = thresh\n",
        "\n",
        "    # Apply best threshold\n",
        "    final_preds = (np.array(all_outputs) > best_threshold).astype(int)\n",
        "\n",
        "    print(f\"Optimal threshold: {best_threshold:.2f}\")\n",
        "    return final_preds, all_labels, all_outputs\n",
        "\n",
        "# Main training and evaluation routine\n",
        "def run_enhanced_model(X_train_text, X_test_text, y_train, y_test):\n",
        "    # Set device\n",
        "    device = torch.device('cuda' if torch.cuda.is_available() else 'cpu')\n",
        "    print(f\"\\nUsing device: {device}\")\n",
        "\n",
        "    # Initialize tokenizer with longer max length\n",
        "    tokenizer = BertTokenizer.from_pretrained('bert-base-uncased')\n",
        "\n",
        "    # Create datasets with data augmentation for training\n",
        "    train_dataset = EnhancedMovieDataset(X_train_text, y_train, tokenizer, max_len=384, augment=True)\n",
        "    test_dataset = EnhancedMovieDataset(X_test_text, y_test, tokenizer, max_len=384, augment=False)\n",
        "\n",
        "    # DataLoaders with larger batch size\n",
        "    batch_size = 16\n",
        "    train_loader = DataLoader(\n",
        "        train_dataset,\n",
        "        batch_size=batch_size,\n",
        "        sampler=RandomSampler(train_dataset),\n",
        "        num_workers=0\n",
        "    )\n",
        "\n",
        "    test_loader = DataLoader(\n",
        "        test_dataset,\n",
        "        batch_size=batch_size,\n",
        "        num_workers=0\n",
        "    )\n",
        "\n",
        "    # Initialize enhanced model\n",
        "    model = EnhancedBertClassifier(dropout=0.3, freeze_layers=6)\n",
        "    model.to(device)\n",
        "\n",
        "    # Training parameters\n",
        "    epochs = 20\n",
        "    warmup_steps = int(0.1 * len(train_loader))\n",
        "    total_steps = len(train_loader) * epochs\n",
        "\n",
        "    # Optimizer with weight decay\n",
        "    optimizer = optim.AdamW(model.parameters(), lr=2e-5, weight_decay=0.01)\n",
        "    scheduler = get_linear_schedule_with_warmup(\n",
        "        optimizer,\n",
        "        num_warmup_steps=warmup_steps,\n",
        "        num_training_steps=total_steps\n",
        "    )\n",
        "\n",
        "    # Use weighted loss\n",
        "    pos_weight = sum([1 for y in y_train if y == 0]) / sum([1 for y in y_train if y == 1])\n",
        "    criterion = WeightedBCELoss(pos_weight=pos_weight)\n",
        "\n",
        "    # Train the model\n",
        "    print(\"\\n=== Training Enhanced Transformer Model ===\")\n",
        "    print(f\"Number of training examples: {len(train_dataset)}\")\n",
        "    print(f\"Number of testing examples: {len(test_dataset)}\")\n",
        "    print(f\"Positive weight in loss function: {pos_weight:.2f}\")\n",
        "\n",
        "    best_f1 = 0\n",
        "    best_model_state = None\n",
        "\n",
        "    for epoch in range(epochs):\n",
        "        print(f\"\\nEpoch {epoch+1}/{epochs}\")\n",
        "        avg_loss = train_enhanced_model(model, train_loader, optimizer, scheduler, criterion, device)\n",
        "        print(f\"Average training loss: {avg_loss:.4f}\")\n",
        "\n",
        "        # Evaluate after each epoch\n",
        "        print(f\"Evaluating after epoch {epoch+1}...\")\n",
        "        preds, true_labels, _ = evaluate_enhanced_model(model, test_loader, device)\n",
        "\n",
        "        # Calculate metrics\n",
        "        accuracy = accuracy_score(true_labels, preds)\n",
        "        precision = precision_score(true_labels, preds)\n",
        "        recall = recall_score(true_labels, preds)\n",
        "        f1 = f1_score(true_labels, preds)\n",
        "\n",
        "        print(f\"Epoch {epoch+1} metrics:\")\n",
        "        print(f\"Accuracy: {accuracy:.4f}, Precision: {precision:.4f}, Recall: {recall:.4f}, F1: {f1:.4f}\")\n",
        "\n",
        "        # Save best model\n",
        "        if f1 > best_f1:\n",
        "            best_f1 = f1\n",
        "            best_model_state = model.state_dict().copy()\n",
        "            print(f\"New best F1 score: {best_f1:.4f}\")\n",
        "\n",
        "    # Load best model for final evaluation\n",
        "    if best_model_state:\n",
        "        model.load_state_dict(best_model_state)\n",
        "\n",
        "    # Final evaluation\n",
        "    print(\"\\n=== Final Evaluation of Enhanced Transformer Model ===\")\n",
        "    final_preds, final_true_labels, _ = evaluate_enhanced_model(model, test_loader, device)\n",
        "\n",
        "    # Calculate final metrics\n",
        "    print(\"\\n=== Enhanced Transformer Model Results ===\")\n",
        "    print(f\"Accuracy: {accuracy_score(final_true_labels, final_preds):.4f}\")\n",
        "    print(f\"Precision: {precision_score(final_true_labels, final_preds):.4f}\")\n",
        "    print(f\"Recall: {recall_score(final_true_labels, final_preds):.4f}\")\n",
        "    print(f\"F1 Score: {f1_score(final_true_labels, final_preds):.4f}\")\n",
        "    print(\"\\nClassification Report:\")\n",
        "    print(classification_report(final_true_labels, final_preds))\n",
        "\n",
        "    return final_preds, final_true_labels, model\n",
        "\n",
        "# Run the enhanced model and get results\n",
        "print(\"\\n=== Running Enhanced BERT Model ===\")\n",
        "transformer_preds, true_labels, enhanced_model = run_enhanced_model(X_train_text, X_test_text, y_train, y_test)\n"
      ],
      "metadata": {
        "colab": {
          "base_uri": "https://localhost:8080/",
          "height": 1000,
          "referenced_widgets": [
            "6d6ae7749d7c4b3b92ca3f1bcee2585b",
            "2a5bd2257a194b919ef484ec817970a1",
            "afb56b7e62454542a95a4fa4ff0e5057",
            "1dec8859f65f4a5c8d10ba1be090802c",
            "030529ed0c6c46f587aa08f2c4f76366",
            "30d015952bbd4e6aa91cf2349bdc9d37",
            "e7177ae8f61a49e8b8d08d6fac581c34",
            "b17a7042209b4d029e001a74fd83f22a",
            "eb040b0cc32347a2b6a91137f297ce43",
            "af8a5ab34c734f91b015dfde0dcb4e42",
            "41820cb590d8402887d13d6887c911ae",
            "addeb83eee3e46299472f225b78c9e3d",
            "27cab62e865e4795a126ab97ea6daaff",
            "af7f78a275c84c528f70714056639bf4",
            "e21b65df395b484892714624998bda6b",
            "842fc927490b482ba81cab5ab989ed79",
            "6ce355702bf7497eaa59a33c20211550",
            "6099a3712d384802a65cff0d6a84aa45",
            "5d050e58ea5246cda6b4e61290731519",
            "1e17872b12b64c3a8b0e947b88b026d0",
            "26acbc37d4a34de080efe70998571af4",
            "4c5e1248c2f94efbbced1dda0c552fc2",
            "39d4bd09024247689830247e470650be",
            "4f3613ca3d3c438d845e4acce90e08b8",
            "c5e696cb86574d5dac7cfe862fcc80a6",
            "876753bdb2414071bf65910ce8f2870b",
            "443ba02c0ddf433dbc3048b753293e2f",
            "c2f39fe8b6d045bd8b8e7f97325257e4",
            "7c3548e81bca4c13979bde40c04a344f",
            "6b9de5d4a49b4932b70751e0d7d76d9f",
            "9c573837f3974eb5bbdcc2ccea9f28b7",
            "ba7f9e57fa4e4eb0a26bea29104885a1",
            "253d6cd2e91646bab5826eef970e9059",
            "18b747d396b846cba4f9b265dbadf6c0",
            "ce63999a298e495a980cc3dc399bbd01",
            "0789fbb268ff42ef9a7b17542ec56bdc",
            "8489d216cfe24756bc3f85b7bdf8c410",
            "f87454f0139d4a75ae2b827e1bc1188b",
            "69c08a9e15fc44caa9991d2ad5e149c1",
            "11ff39820f95439dbef0f1d3f00fad05",
            "3082e4b7179145dd85d81a1a99a289b2",
            "27672fd1225243ab994d643dbbde8e45",
            "ef4dd5a093564932abfed74d78729349",
            "017039c3f7aa41c5833ca28fecbb15f1",
            "f656652454a249fe87d963f127bad247",
            "c77c6464929549fd8ef4ad462840a75d",
            "edbd30ef3aa24f729ac46170bcec92ba",
            "d7efcdec34c34a73a4bd43fc7f14f5df",
            "c8966bf0d54b4d6095420888222517ee",
            "1167447af5074203b7558c1a552d5f8c",
            "e0477b5cf45f469cbdfff3a15b4aad6e",
            "2e7b608a61e84e518d3ba933bb359046",
            "dcf78ea8d54e4facb5750cada3cd143c",
            "010461382e95440995e6f9d5fa4b9a96",
            "c0d54dbc7b7042bd88577a3c45703da6"
          ]
        },
        "id": "FOr9paANTG0e",
        "outputId": "212faa56-e2c8-4365-a759-0ef2a8c5b072"
      },
      "execution_count": 5,
      "outputs": [
        {
          "output_type": "stream",
          "name": "stdout",
          "text": [
            "\n",
            "=== Running Enhanced BERT Model ===\n",
            "\n",
            "Using device: cuda\n"
          ]
        },
        {
          "output_type": "stream",
          "name": "stderr",
          "text": [
            "/usr/local/lib/python3.11/dist-packages/huggingface_hub/utils/_auth.py:94: UserWarning: \n",
            "The secret `HF_TOKEN` does not exist in your Colab secrets.\n",
            "To authenticate with the Hugging Face Hub, create a token in your settings tab (https://huggingface.co/settings/tokens), set it as secret in your Google Colab and restart your session.\n",
            "You will be able to reuse this secret in all of your notebooks.\n",
            "Please note that authentication is recommended but still optional to access public models or datasets.\n",
            "  warnings.warn(\n"
          ]
        },
        {
          "output_type": "display_data",
          "data": {
            "text/plain": [
              "tokenizer_config.json:   0%|          | 0.00/48.0 [00:00<?, ?B/s]"
            ],
            "application/vnd.jupyter.widget-view+json": {
              "version_major": 2,
              "version_minor": 0,
              "model_id": "6d6ae7749d7c4b3b92ca3f1bcee2585b"
            }
          },
          "metadata": {}
        },
        {
          "output_type": "display_data",
          "data": {
            "text/plain": [
              "vocab.txt:   0%|          | 0.00/232k [00:00<?, ?B/s]"
            ],
            "application/vnd.jupyter.widget-view+json": {
              "version_major": 2,
              "version_minor": 0,
              "model_id": "addeb83eee3e46299472f225b78c9e3d"
            }
          },
          "metadata": {}
        },
        {
          "output_type": "display_data",
          "data": {
            "text/plain": [
              "tokenizer.json:   0%|          | 0.00/466k [00:00<?, ?B/s]"
            ],
            "application/vnd.jupyter.widget-view+json": {
              "version_major": 2,
              "version_minor": 0,
              "model_id": "39d4bd09024247689830247e470650be"
            }
          },
          "metadata": {}
        },
        {
          "output_type": "display_data",
          "data": {
            "text/plain": [
              "config.json:   0%|          | 0.00/570 [00:00<?, ?B/s]"
            ],
            "application/vnd.jupyter.widget-view+json": {
              "version_major": 2,
              "version_minor": 0,
              "model_id": "18b747d396b846cba4f9b265dbadf6c0"
            }
          },
          "metadata": {}
        },
        {
          "output_type": "stream",
          "name": "stderr",
          "text": [
            "Xet Storage is enabled for this repo, but the 'hf_xet' package is not installed. Falling back to regular HTTP download. For better performance, install the package with: `pip install huggingface_hub[hf_xet]` or `pip install hf_xet`\n",
            "WARNING:huggingface_hub.file_download:Xet Storage is enabled for this repo, but the 'hf_xet' package is not installed. Falling back to regular HTTP download. For better performance, install the package with: `pip install huggingface_hub[hf_xet]` or `pip install hf_xet`\n"
          ]
        },
        {
          "output_type": "display_data",
          "data": {
            "text/plain": [
              "model.safetensors:   0%|          | 0.00/440M [00:00<?, ?B/s]"
            ],
            "application/vnd.jupyter.widget-view+json": {
              "version_major": 2,
              "version_minor": 0,
              "model_id": "f656652454a249fe87d963f127bad247"
            }
          },
          "metadata": {}
        },
        {
          "output_type": "stream",
          "name": "stdout",
          "text": [
            "\n",
            "=== Training Enhanced Transformer Model ===\n",
            "Number of training examples: 384\n",
            "Number of testing examples: 97\n",
            "Positive weight in loss function: 0.86\n",
            "\n",
            "Epoch 1/20\n"
          ]
        },
        {
          "output_type": "stream",
          "name": "stderr",
          "text": [
            "Training: 100%|██████████| 24/24 [00:16<00:00,  1.46it/s, loss=0.7547]\n"
          ]
        },
        {
          "output_type": "stream",
          "name": "stdout",
          "text": [
            "Average training loss: 0.6643\n",
            "Evaluating after epoch 1...\n"
          ]
        },
        {
          "output_type": "stream",
          "name": "stderr",
          "text": [
            "Evaluating:  86%|████████▌ | 6/7 [00:02<00:00,  3.00it/s]<ipython-input-5-15905da3da4c>:163: DeprecationWarning: Conversion of an array with ndim > 0 to a scalar is deprecated, and will error in future. Ensure you extract a single element from your array before performing this operation. (Deprecated NumPy 1.25.)\n",
            "  all_labels.append(float(labels))\n",
            "Evaluating: 100%|██████████| 7/7 [00:02<00:00,  3.43it/s]\n"
          ]
        },
        {
          "output_type": "stream",
          "name": "stdout",
          "text": [
            "Optimal threshold: 0.44\n",
            "Epoch 1 metrics:\n",
            "Accuracy: 0.6907, Precision: 0.6719, Recall: 0.8269, F1: 0.7414\n",
            "New best F1 score: 0.7414\n",
            "\n",
            "Epoch 2/20\n"
          ]
        },
        {
          "output_type": "stream",
          "name": "stderr",
          "text": [
            "Training: 100%|██████████| 24/24 [00:15<00:00,  1.53it/s, loss=0.6233]\n"
          ]
        },
        {
          "output_type": "stream",
          "name": "stdout",
          "text": [
            "Average training loss: 0.6602\n",
            "Evaluating after epoch 2...\n"
          ]
        },
        {
          "output_type": "stream",
          "name": "stderr",
          "text": [
            "Evaluating:  86%|████████▌ | 6/7 [00:02<00:00,  2.95it/s]<ipython-input-5-15905da3da4c>:163: DeprecationWarning: Conversion of an array with ndim > 0 to a scalar is deprecated, and will error in future. Ensure you extract a single element from your array before performing this operation. (Deprecated NumPy 1.25.)\n",
            "  all_labels.append(float(labels))\n",
            "Evaluating: 100%|██████████| 7/7 [00:02<00:00,  3.42it/s]\n"
          ]
        },
        {
          "output_type": "stream",
          "name": "stdout",
          "text": [
            "Optimal threshold: 0.30\n",
            "Epoch 2 metrics:\n",
            "Accuracy: 0.5361, Precision: 0.5361, Recall: 1.0000, F1: 0.6980\n",
            "\n",
            "Epoch 3/20\n"
          ]
        },
        {
          "output_type": "stream",
          "name": "stderr",
          "text": [
            "Training: 100%|██████████| 24/24 [00:16<00:00,  1.50it/s, loss=0.6843]\n"
          ]
        },
        {
          "output_type": "stream",
          "name": "stdout",
          "text": [
            "Average training loss: 0.6416\n",
            "Evaluating after epoch 3...\n"
          ]
        },
        {
          "output_type": "stream",
          "name": "stderr",
          "text": [
            "Evaluating:  86%|████████▌ | 6/7 [00:02<00:00,  2.82it/s]<ipython-input-5-15905da3da4c>:163: DeprecationWarning: Conversion of an array with ndim > 0 to a scalar is deprecated, and will error in future. Ensure you extract a single element from your array before performing this operation. (Deprecated NumPy 1.25.)\n",
            "  all_labels.append(float(labels))\n",
            "Evaluating: 100%|██████████| 7/7 [00:02<00:00,  3.23it/s]\n"
          ]
        },
        {
          "output_type": "stream",
          "name": "stdout",
          "text": [
            "Optimal threshold: 0.35\n",
            "Epoch 3 metrics:\n",
            "Accuracy: 0.6289, Precision: 0.6111, Recall: 0.8462, F1: 0.7097\n",
            "\n",
            "Epoch 4/20\n"
          ]
        },
        {
          "output_type": "stream",
          "name": "stderr",
          "text": [
            "Training: 100%|██████████| 24/24 [00:16<00:00,  1.44it/s, loss=0.7691]\n"
          ]
        },
        {
          "output_type": "stream",
          "name": "stdout",
          "text": [
            "Average training loss: 0.6233\n",
            "Evaluating after epoch 4...\n"
          ]
        },
        {
          "output_type": "stream",
          "name": "stderr",
          "text": [
            "Evaluating:  86%|████████▌ | 6/7 [00:02<00:00,  2.70it/s]<ipython-input-5-15905da3da4c>:163: DeprecationWarning: Conversion of an array with ndim > 0 to a scalar is deprecated, and will error in future. Ensure you extract a single element from your array before performing this operation. (Deprecated NumPy 1.25.)\n",
            "  all_labels.append(float(labels))\n",
            "Evaluating: 100%|██████████| 7/7 [00:02<00:00,  3.11it/s]\n"
          ]
        },
        {
          "output_type": "stream",
          "name": "stdout",
          "text": [
            "Optimal threshold: 0.36\n",
            "Epoch 4 metrics:\n",
            "Accuracy: 0.6804, Precision: 0.6567, Recall: 0.8462, F1: 0.7395\n",
            "\n",
            "Epoch 5/20\n"
          ]
        },
        {
          "output_type": "stream",
          "name": "stderr",
          "text": [
            "Training: 100%|██████████| 24/24 [00:17<00:00,  1.37it/s, loss=0.6121]\n"
          ]
        },
        {
          "output_type": "stream",
          "name": "stdout",
          "text": [
            "Average training loss: 0.6227\n",
            "Evaluating after epoch 5...\n"
          ]
        },
        {
          "output_type": "stream",
          "name": "stderr",
          "text": [
            "Evaluating:  86%|████████▌ | 6/7 [00:02<00:00,  2.60it/s]<ipython-input-5-15905da3da4c>:163: DeprecationWarning: Conversion of an array with ndim > 0 to a scalar is deprecated, and will error in future. Ensure you extract a single element from your array before performing this operation. (Deprecated NumPy 1.25.)\n",
            "  all_labels.append(float(labels))\n",
            "Evaluating: 100%|██████████| 7/7 [00:02<00:00,  3.00it/s]\n"
          ]
        },
        {
          "output_type": "stream",
          "name": "stdout",
          "text": [
            "Optimal threshold: 0.30\n",
            "Epoch 5 metrics:\n",
            "Accuracy: 0.7010, Precision: 0.6949, Recall: 0.7885, F1: 0.7387\n",
            "\n",
            "Epoch 6/20\n"
          ]
        },
        {
          "output_type": "stream",
          "name": "stderr",
          "text": [
            "Training: 100%|██████████| 24/24 [00:17<00:00,  1.39it/s, loss=0.4921]\n"
          ]
        },
        {
          "output_type": "stream",
          "name": "stdout",
          "text": [
            "Average training loss: 0.5915\n",
            "Evaluating after epoch 6...\n"
          ]
        },
        {
          "output_type": "stream",
          "name": "stderr",
          "text": [
            "Evaluating:  86%|████████▌ | 6/7 [00:02<00:00,  2.63it/s]<ipython-input-5-15905da3da4c>:163: DeprecationWarning: Conversion of an array with ndim > 0 to a scalar is deprecated, and will error in future. Ensure you extract a single element from your array before performing this operation. (Deprecated NumPy 1.25.)\n",
            "  all_labels.append(float(labels))\n",
            "Evaluating: 100%|██████████| 7/7 [00:02<00:00,  3.06it/s]\n"
          ]
        },
        {
          "output_type": "stream",
          "name": "stdout",
          "text": [
            "Optimal threshold: 0.31\n",
            "Epoch 6 metrics:\n",
            "Accuracy: 0.7216, Precision: 0.7049, Recall: 0.8269, F1: 0.7611\n",
            "New best F1 score: 0.7611\n",
            "\n",
            "Epoch 7/20\n"
          ]
        },
        {
          "output_type": "stream",
          "name": "stderr",
          "text": [
            "Training: 100%|██████████| 24/24 [00:16<00:00,  1.42it/s, loss=0.4876]\n"
          ]
        },
        {
          "output_type": "stream",
          "name": "stdout",
          "text": [
            "Average training loss: 0.5814\n",
            "Evaluating after epoch 7...\n"
          ]
        },
        {
          "output_type": "stream",
          "name": "stderr",
          "text": [
            "Evaluating:  86%|████████▌ | 6/7 [00:02<00:00,  2.74it/s]<ipython-input-5-15905da3da4c>:163: DeprecationWarning: Conversion of an array with ndim > 0 to a scalar is deprecated, and will error in future. Ensure you extract a single element from your array before performing this operation. (Deprecated NumPy 1.25.)\n",
            "  all_labels.append(float(labels))\n",
            "Evaluating: 100%|██████████| 7/7 [00:02<00:00,  3.17it/s]\n"
          ]
        },
        {
          "output_type": "stream",
          "name": "stdout",
          "text": [
            "Optimal threshold: 0.33\n",
            "Epoch 7 metrics:\n",
            "Accuracy: 0.7010, Precision: 0.8108, Recall: 0.5769, F1: 0.6742\n",
            "\n",
            "Epoch 8/20\n"
          ]
        },
        {
          "output_type": "stream",
          "name": "stderr",
          "text": [
            "Training: 100%|██████████| 24/24 [00:16<00:00,  1.43it/s, loss=0.4113]\n"
          ]
        },
        {
          "output_type": "stream",
          "name": "stdout",
          "text": [
            "Average training loss: 0.5535\n",
            "Evaluating after epoch 8...\n"
          ]
        },
        {
          "output_type": "stream",
          "name": "stderr",
          "text": [
            "Evaluating:  86%|████████▌ | 6/7 [00:02<00:00,  2.73it/s]<ipython-input-5-15905da3da4c>:163: DeprecationWarning: Conversion of an array with ndim > 0 to a scalar is deprecated, and will error in future. Ensure you extract a single element from your array before performing this operation. (Deprecated NumPy 1.25.)\n",
            "  all_labels.append(float(labels))\n",
            "Evaluating: 100%|██████████| 7/7 [00:02<00:00,  3.16it/s]\n"
          ]
        },
        {
          "output_type": "stream",
          "name": "stdout",
          "text": [
            "Optimal threshold: 0.30\n",
            "Epoch 8 metrics:\n",
            "Accuracy: 0.7113, Precision: 0.7609, Recall: 0.6731, F1: 0.7143\n",
            "\n",
            "Epoch 9/20\n"
          ]
        },
        {
          "output_type": "stream",
          "name": "stderr",
          "text": [
            "Training: 100%|██████████| 24/24 [00:17<00:00,  1.41it/s, loss=0.6149]\n"
          ]
        },
        {
          "output_type": "stream",
          "name": "stdout",
          "text": [
            "Average training loss: 0.5857\n",
            "Evaluating after epoch 9...\n"
          ]
        },
        {
          "output_type": "stream",
          "name": "stderr",
          "text": [
            "Evaluating:  86%|████████▌ | 6/7 [00:02<00:00,  2.69it/s]<ipython-input-5-15905da3da4c>:163: DeprecationWarning: Conversion of an array with ndim > 0 to a scalar is deprecated, and will error in future. Ensure you extract a single element from your array before performing this operation. (Deprecated NumPy 1.25.)\n",
            "  all_labels.append(float(labels))\n",
            "Evaluating: 100%|██████████| 7/7 [00:02<00:00,  3.10it/s]\n"
          ]
        },
        {
          "output_type": "stream",
          "name": "stdout",
          "text": [
            "Optimal threshold: 0.41\n",
            "Epoch 9 metrics:\n",
            "Accuracy: 0.7010, Precision: 0.8108, Recall: 0.5769, F1: 0.6742\n",
            "\n",
            "Epoch 10/20\n"
          ]
        },
        {
          "output_type": "stream",
          "name": "stderr",
          "text": [
            "Training: 100%|██████████| 24/24 [00:17<00:00,  1.40it/s, loss=0.4530]\n"
          ]
        },
        {
          "output_type": "stream",
          "name": "stdout",
          "text": [
            "Average training loss: 0.5607\n",
            "Evaluating after epoch 10...\n"
          ]
        },
        {
          "output_type": "stream",
          "name": "stderr",
          "text": [
            "Evaluating:  86%|████████▌ | 6/7 [00:02<00:00,  2.71it/s]<ipython-input-5-15905da3da4c>:163: DeprecationWarning: Conversion of an array with ndim > 0 to a scalar is deprecated, and will error in future. Ensure you extract a single element from your array before performing this operation. (Deprecated NumPy 1.25.)\n",
            "  all_labels.append(float(labels))\n",
            "Evaluating: 100%|██████████| 7/7 [00:02<00:00,  3.11it/s]\n"
          ]
        },
        {
          "output_type": "stream",
          "name": "stdout",
          "text": [
            "Optimal threshold: 0.31\n",
            "Epoch 10 metrics:\n",
            "Accuracy: 0.6701, Precision: 0.7941, Recall: 0.5192, F1: 0.6279\n",
            "\n",
            "Epoch 11/20\n"
          ]
        },
        {
          "output_type": "stream",
          "name": "stderr",
          "text": [
            "Training: 100%|██████████| 24/24 [00:17<00:00,  1.41it/s, loss=0.4862]\n"
          ]
        },
        {
          "output_type": "stream",
          "name": "stdout",
          "text": [
            "Average training loss: 0.5560\n",
            "Evaluating after epoch 11...\n"
          ]
        },
        {
          "output_type": "stream",
          "name": "stderr",
          "text": [
            "Evaluating:  86%|████████▌ | 6/7 [00:02<00:00,  2.62it/s]<ipython-input-5-15905da3da4c>:163: DeprecationWarning: Conversion of an array with ndim > 0 to a scalar is deprecated, and will error in future. Ensure you extract a single element from your array before performing this operation. (Deprecated NumPy 1.25.)\n",
            "  all_labels.append(float(labels))\n",
            "Evaluating: 100%|██████████| 7/7 [00:02<00:00,  3.04it/s]\n"
          ]
        },
        {
          "output_type": "stream",
          "name": "stdout",
          "text": [
            "Optimal threshold: 0.34\n",
            "Epoch 11 metrics:\n",
            "Accuracy: 0.7113, Precision: 0.7609, Recall: 0.6731, F1: 0.7143\n",
            "\n",
            "Epoch 12/20\n"
          ]
        },
        {
          "output_type": "stream",
          "name": "stderr",
          "text": [
            "Training: 100%|██████████| 24/24 [00:16<00:00,  1.42it/s, loss=0.4547]\n"
          ]
        },
        {
          "output_type": "stream",
          "name": "stdout",
          "text": [
            "Average training loss: 0.5471\n",
            "Evaluating after epoch 12...\n"
          ]
        },
        {
          "output_type": "stream",
          "name": "stderr",
          "text": [
            "Evaluating:  86%|████████▌ | 6/7 [00:02<00:00,  2.71it/s]<ipython-input-5-15905da3da4c>:163: DeprecationWarning: Conversion of an array with ndim > 0 to a scalar is deprecated, and will error in future. Ensure you extract a single element from your array before performing this operation. (Deprecated NumPy 1.25.)\n",
            "  all_labels.append(float(labels))\n",
            "Evaluating: 100%|██████████| 7/7 [00:02<00:00,  3.13it/s]\n"
          ]
        },
        {
          "output_type": "stream",
          "name": "stdout",
          "text": [
            "Optimal threshold: 0.30\n",
            "Epoch 12 metrics:\n",
            "Accuracy: 0.7010, Precision: 0.7447, Recall: 0.6731, F1: 0.7071\n",
            "\n",
            "Epoch 13/20\n"
          ]
        },
        {
          "output_type": "stream",
          "name": "stderr",
          "text": [
            "Training: 100%|██████████| 24/24 [00:16<00:00,  1.41it/s, loss=0.4768]\n"
          ]
        },
        {
          "output_type": "stream",
          "name": "stdout",
          "text": [
            "Average training loss: 0.5228\n",
            "Evaluating after epoch 13...\n"
          ]
        },
        {
          "output_type": "stream",
          "name": "stderr",
          "text": [
            "Evaluating:  86%|████████▌ | 6/7 [00:02<00:00,  2.71it/s]<ipython-input-5-15905da3da4c>:163: DeprecationWarning: Conversion of an array with ndim > 0 to a scalar is deprecated, and will error in future. Ensure you extract a single element from your array before performing this operation. (Deprecated NumPy 1.25.)\n",
            "  all_labels.append(float(labels))\n",
            "Evaluating: 100%|██████████| 7/7 [00:02<00:00,  3.13it/s]\n"
          ]
        },
        {
          "output_type": "stream",
          "name": "stdout",
          "text": [
            "Optimal threshold: 0.31\n",
            "Epoch 13 metrics:\n",
            "Accuracy: 0.6701, Precision: 0.8125, Recall: 0.5000, F1: 0.6190\n",
            "\n",
            "Epoch 14/20\n"
          ]
        },
        {
          "output_type": "stream",
          "name": "stderr",
          "text": [
            "Training: 100%|██████████| 24/24 [00:16<00:00,  1.41it/s, loss=0.4794]\n"
          ]
        },
        {
          "output_type": "stream",
          "name": "stdout",
          "text": [
            "Average training loss: 0.4865\n",
            "Evaluating after epoch 14...\n"
          ]
        },
        {
          "output_type": "stream",
          "name": "stderr",
          "text": [
            "Evaluating:  86%|████████▌ | 6/7 [00:02<00:00,  2.71it/s]<ipython-input-5-15905da3da4c>:163: DeprecationWarning: Conversion of an array with ndim > 0 to a scalar is deprecated, and will error in future. Ensure you extract a single element from your array before performing this operation. (Deprecated NumPy 1.25.)\n",
            "  all_labels.append(float(labels))\n",
            "Evaluating: 100%|██████████| 7/7 [00:02<00:00,  3.13it/s]\n"
          ]
        },
        {
          "output_type": "stream",
          "name": "stdout",
          "text": [
            "Optimal threshold: 0.30\n",
            "Epoch 14 metrics:\n",
            "Accuracy: 0.6804, Precision: 0.7333, Recall: 0.6346, F1: 0.6804\n",
            "\n",
            "Epoch 15/20\n"
          ]
        },
        {
          "output_type": "stream",
          "name": "stderr",
          "text": [
            "Training: 100%|██████████| 24/24 [00:17<00:00,  1.41it/s, loss=0.5802]\n"
          ]
        },
        {
          "output_type": "stream",
          "name": "stdout",
          "text": [
            "Average training loss: 0.4719\n",
            "Evaluating after epoch 15...\n"
          ]
        },
        {
          "output_type": "stream",
          "name": "stderr",
          "text": [
            "Evaluating:  86%|████████▌ | 6/7 [00:02<00:00,  2.71it/s]<ipython-input-5-15905da3da4c>:163: DeprecationWarning: Conversion of an array with ndim > 0 to a scalar is deprecated, and will error in future. Ensure you extract a single element from your array before performing this operation. (Deprecated NumPy 1.25.)\n",
            "  all_labels.append(float(labels))\n",
            "Evaluating: 100%|██████████| 7/7 [00:02<00:00,  3.12it/s]\n"
          ]
        },
        {
          "output_type": "stream",
          "name": "stdout",
          "text": [
            "Optimal threshold: 0.38\n",
            "Epoch 15 metrics:\n",
            "Accuracy: 0.7113, Precision: 0.8000, Recall: 0.6154, F1: 0.6957\n",
            "\n",
            "Epoch 16/20\n"
          ]
        },
        {
          "output_type": "stream",
          "name": "stderr",
          "text": [
            "Training: 100%|██████████| 24/24 [00:16<00:00,  1.41it/s, loss=0.3230]\n"
          ]
        },
        {
          "output_type": "stream",
          "name": "stdout",
          "text": [
            "Average training loss: 0.4529\n",
            "Evaluating after epoch 16...\n"
          ]
        },
        {
          "output_type": "stream",
          "name": "stderr",
          "text": [
            "Evaluating:  86%|████████▌ | 6/7 [00:02<00:00,  2.61it/s]<ipython-input-5-15905da3da4c>:163: DeprecationWarning: Conversion of an array with ndim > 0 to a scalar is deprecated, and will error in future. Ensure you extract a single element from your array before performing this operation. (Deprecated NumPy 1.25.)\n",
            "  all_labels.append(float(labels))\n",
            "Evaluating: 100%|██████████| 7/7 [00:02<00:00,  3.03it/s]\n"
          ]
        },
        {
          "output_type": "stream",
          "name": "stdout",
          "text": [
            "Optimal threshold: 0.39\n",
            "Epoch 16 metrics:\n",
            "Accuracy: 0.7010, Precision: 0.7674, Recall: 0.6346, F1: 0.6947\n",
            "\n",
            "Epoch 17/20\n"
          ]
        },
        {
          "output_type": "stream",
          "name": "stderr",
          "text": [
            "Training: 100%|██████████| 24/24 [00:17<00:00,  1.41it/s, loss=0.4600]\n"
          ]
        },
        {
          "output_type": "stream",
          "name": "stdout",
          "text": [
            "Average training loss: 0.4148\n",
            "Evaluating after epoch 17...\n"
          ]
        },
        {
          "output_type": "stream",
          "name": "stderr",
          "text": [
            "Evaluating:  86%|████████▌ | 6/7 [00:02<00:00,  2.71it/s]<ipython-input-5-15905da3da4c>:163: DeprecationWarning: Conversion of an array with ndim > 0 to a scalar is deprecated, and will error in future. Ensure you extract a single element from your array before performing this operation. (Deprecated NumPy 1.25.)\n",
            "  all_labels.append(float(labels))\n",
            "Evaluating: 100%|██████████| 7/7 [00:02<00:00,  3.12it/s]\n"
          ]
        },
        {
          "output_type": "stream",
          "name": "stdout",
          "text": [
            "Optimal threshold: 0.30\n",
            "Epoch 17 metrics:\n",
            "Accuracy: 0.7216, Precision: 0.7451, Recall: 0.7308, F1: 0.7379\n",
            "\n",
            "Epoch 18/20\n"
          ]
        },
        {
          "output_type": "stream",
          "name": "stderr",
          "text": [
            "Training: 100%|██████████| 24/24 [00:17<00:00,  1.41it/s, loss=0.4847]\n"
          ]
        },
        {
          "output_type": "stream",
          "name": "stdout",
          "text": [
            "Average training loss: 0.3998\n",
            "Evaluating after epoch 18...\n"
          ]
        },
        {
          "output_type": "stream",
          "name": "stderr",
          "text": [
            "Evaluating:  86%|████████▌ | 6/7 [00:02<00:00,  2.71it/s]<ipython-input-5-15905da3da4c>:163: DeprecationWarning: Conversion of an array with ndim > 0 to a scalar is deprecated, and will error in future. Ensure you extract a single element from your array before performing this operation. (Deprecated NumPy 1.25.)\n",
            "  all_labels.append(float(labels))\n",
            "Evaluating: 100%|██████████| 7/7 [00:02<00:00,  3.11it/s]\n"
          ]
        },
        {
          "output_type": "stream",
          "name": "stdout",
          "text": [
            "Optimal threshold: 0.31\n",
            "Epoch 18 metrics:\n",
            "Accuracy: 0.7320, Precision: 0.7826, Recall: 0.6923, F1: 0.7347\n",
            "\n",
            "Epoch 19/20\n"
          ]
        },
        {
          "output_type": "stream",
          "name": "stderr",
          "text": [
            "Training: 100%|██████████| 24/24 [00:17<00:00,  1.41it/s, loss=0.3446]\n"
          ]
        },
        {
          "output_type": "stream",
          "name": "stdout",
          "text": [
            "Average training loss: 0.3682\n",
            "Evaluating after epoch 19...\n"
          ]
        },
        {
          "output_type": "stream",
          "name": "stderr",
          "text": [
            "Evaluating:  86%|████████▌ | 6/7 [00:02<00:00,  2.69it/s]<ipython-input-5-15905da3da4c>:163: DeprecationWarning: Conversion of an array with ndim > 0 to a scalar is deprecated, and will error in future. Ensure you extract a single element from your array before performing this operation. (Deprecated NumPy 1.25.)\n",
            "  all_labels.append(float(labels))\n",
            "Evaluating: 100%|██████████| 7/7 [00:02<00:00,  3.11it/s]\n"
          ]
        },
        {
          "output_type": "stream",
          "name": "stdout",
          "text": [
            "Optimal threshold: 0.45\n",
            "Epoch 19 metrics:\n",
            "Accuracy: 0.7320, Precision: 0.7407, Recall: 0.7692, F1: 0.7547\n",
            "\n",
            "Epoch 20/20\n"
          ]
        },
        {
          "output_type": "stream",
          "name": "stderr",
          "text": [
            "Training: 100%|██████████| 24/24 [00:17<00:00,  1.41it/s, loss=0.3816]\n"
          ]
        },
        {
          "output_type": "stream",
          "name": "stdout",
          "text": [
            "Average training loss: 0.3581\n",
            "Evaluating after epoch 20...\n"
          ]
        },
        {
          "output_type": "stream",
          "name": "stderr",
          "text": [
            "Evaluating:  86%|████████▌ | 6/7 [00:02<00:00,  2.71it/s]<ipython-input-5-15905da3da4c>:163: DeprecationWarning: Conversion of an array with ndim > 0 to a scalar is deprecated, and will error in future. Ensure you extract a single element from your array before performing this operation. (Deprecated NumPy 1.25.)\n",
            "  all_labels.append(float(labels))\n",
            "Evaluating: 100%|██████████| 7/7 [00:02<00:00,  3.13it/s]\n"
          ]
        },
        {
          "output_type": "stream",
          "name": "stdout",
          "text": [
            "Optimal threshold: 0.40\n",
            "Epoch 20 metrics:\n",
            "Accuracy: 0.7423, Precision: 0.7547, Recall: 0.7692, F1: 0.7619\n",
            "New best F1 score: 0.7619\n",
            "\n",
            "=== Final Evaluation of Enhanced Transformer Model ===\n"
          ]
        },
        {
          "output_type": "stream",
          "name": "stderr",
          "text": [
            "Evaluating:  86%|████████▌ | 6/7 [00:02<00:00,  2.73it/s]<ipython-input-5-15905da3da4c>:163: DeprecationWarning: Conversion of an array with ndim > 0 to a scalar is deprecated, and will error in future. Ensure you extract a single element from your array before performing this operation. (Deprecated NumPy 1.25.)\n",
            "  all_labels.append(float(labels))\n",
            "Evaluating: 100%|██████████| 7/7 [00:02<00:00,  3.15it/s]"
          ]
        },
        {
          "output_type": "stream",
          "name": "stdout",
          "text": [
            "Optimal threshold: 0.40\n",
            "\n",
            "=== Enhanced Transformer Model Results ===\n",
            "Accuracy: 0.7423\n",
            "Precision: 0.7547\n",
            "Recall: 0.7692\n",
            "F1 Score: 0.7619\n",
            "\n",
            "Classification Report:\n",
            "              precision    recall  f1-score   support\n",
            "\n",
            "         0.0       0.73      0.71      0.72        45\n",
            "         1.0       0.75      0.77      0.76        52\n",
            "\n",
            "    accuracy                           0.74        97\n",
            "   macro avg       0.74      0.74      0.74        97\n",
            "weighted avg       0.74      0.74      0.74        97\n",
            "\n"
          ]
        },
        {
          "output_type": "stream",
          "name": "stderr",
          "text": [
            "\n"
          ]
        }
      ]
    },
    {
      "cell_type": "code",
      "source": [
        "# Compare both models\n",
        "print(\"\\n=== Model Comparison ===\")\n",
        "metrics = {\n",
        "    'Accuracy': [accuracy_score(y_test, logistic_preds), accuracy_score(true_labels, transformer_preds)],\n",
        "    'Precision': [precision_score(y_test, logistic_preds), precision_score(true_labels, transformer_preds)],\n",
        "    'Recall': [recall_score(y_test, logistic_preds), recall_score(true_labels, transformer_preds)],\n",
        "    'F1 Score': [f1_score(y_test, logistic_preds), f1_score(true_labels, transformer_preds)]\n",
        "}\n",
        "\n",
        "comparison_df = pd.DataFrame(metrics, index=['Logistic Regression', 'BERT Transformer'])\n",
        "print(comparison_df)\n",
        "\n",
        "# Visualize comparison\n",
        "plt.figure(figsize=(12, 6))\n",
        "comparison_df.plot(kind='bar', rot=0, figsize=(12, 6))\n",
        "plt.title('Model Performance Comparison', fontsize=15)\n",
        "plt.ylabel('Score', fontsize=12)\n",
        "plt.xlabel('Model', fontsize=12)\n",
        "plt.ylim(0, 1.0)\n",
        "plt.legend(loc='lower right')\n",
        "plt.grid(axis='y', linestyle='--', alpha=0.7)\n",
        "plt.tight_layout()\n",
        "plt.savefig('model_comparison.png')\n",
        "plt.show()"
      ],
      "metadata": {
        "colab": {
          "base_uri": "https://localhost:8080/",
          "height": 625
        },
        "id": "ycteEpANVXjX",
        "outputId": "8f9a3724-affa-4cdf-f48b-959295e7c619"
      },
      "execution_count": 6,
      "outputs": [
        {
          "output_type": "stream",
          "name": "stdout",
          "text": [
            "\n",
            "=== Model Comparison ===\n",
            "                     Accuracy  Precision    Recall  F1 Score\n",
            "Logistic Regression  0.680412   0.690909  0.730769  0.710280\n",
            "BERT Transformer     0.742268   0.754717  0.769231  0.761905\n"
          ]
        },
        {
          "output_type": "display_data",
          "data": {
            "text/plain": [
              "<Figure size 1200x600 with 0 Axes>"
            ]
          },
          "metadata": {}
        },
        {
          "output_type": "display_data",
          "data": {
            "text/plain": [
              "<Figure size 1200x600 with 1 Axes>"
            ],
            "image/png": "[encoded data removed]"
          },
          "metadata": {}
        }
      ]
    },
    {
      "cell_type": "code",
      "source": [],
      "metadata": {
        "id": "FENdZiT9W4g8"
      },
      "execution_count": null,
      "outputs": []
    }
  ]
}